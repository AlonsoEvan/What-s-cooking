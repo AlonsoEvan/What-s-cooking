{
 "cells": [
  {
   "cell_type": "markdown",
   "metadata": {},
   "source": [
    "# What's Cooking? 🍜"
   ]
  },
  {
   "cell_type": "markdown",
   "metadata": {},
   "source": [
    "This Kaggle competition asks us to predict the category of a dish's cuisine given a list of its ingredients.  <br><br>\n",
    "This notebook provides a step-by-step analysis and solution to the given problem. \n",
    "It is divided into four main sections: \n",
    "- Exploratory Analysis - as a first step, we explore the main characteristics of the data with;\n",
    "- Text Processing & Feature Engineering  - here we apply some basic text processing techniques in order to clean and prepare the data for model development ; \n",
    "- Data Modeling - in this section we build  some predictive model of the cuisine (Logistic Regression, LinearSVC,Random Forest, XGBoost and so on). \n",
    "- Models comparison - here we will see which model perform better in term of accuracy, variance and execution time <br>"
   ]
  },
  {
   "cell_type": "code",
   "execution_count": null,
   "metadata": {
    "_cell_guid": "b1076dfc-b9ad-4769-8c92-a6c4dae69d19",
    "_uuid": "8f2839f25d086af736a60e9eeb907d3b93b6e0e5"
   },
   "outputs": [],
   "source": [
    "# This Python 3 environment comes with many helpful analytics libraries installed\n",
    "# It is defined by the kaggle/python docker image: https://github.com/kaggle/docker-python\n",
    "# For example, here's several helpful packages to load in \n",
    "\n",
    "import numpy as np # linear algebra\n",
    "import pandas as pd # data processing, CSV file I/O (e.g. pd.read_csv)\n",
    "\n",
    "# Input data files are available in the \"../input/\" directory.\n",
    "# For example, running this (by clicking run or pressing Shift+Enter) will list the files in the input directory\n",
    "\n",
    "import os\n",
    "print(os.listdir(\"../input\"))\n",
    "\n",
    "# Any results you write to the current directory are saved as output."
   ]
  },
  {
   "cell_type": "code",
   "execution_count": 1,
   "metadata": {},
   "outputs": [],
   "source": [
    "import sys\n",
    "\n",
    "if not sys.warnoptions:\n",
    "    import warnings\n",
    "    warnings.simplefilter(\"ignore\")\n"
   ]
  },
  {
   "cell_type": "code",
   "execution_count": 2,
   "metadata": {
    "_cell_guid": "79c7e3d0-c299-4dcb-8224-4455121ee9b0",
    "_uuid": "d629ff2d2480ee46fbb7e2d37f6b5fab8052498a"
   },
   "outputs": [],
   "source": [
    "from pandas import Series, DataFrame\n",
    "import pandas as pd\n",
    "import numpy as np\n",
    "import nltk\n",
    "import re\n",
    "from nltk.stem import WordNetLemmatizer\n",
    "from sklearn.svm import LinearSVC\n",
    "from sklearn.metrics import classification_report\n",
    "import sklearn.metrics\n",
    "from sklearn.feature_extraction.text import TfidfVectorizer\n",
    "from sklearn.linear_model import LogisticRegression\n",
    "from pprint import pprint\n",
    "from time import time\n",
    "from collections import Counter\n",
    "import matplotlib.pyplot as plt\n",
    "import seaborn as sns\n",
    "from sklearn.pipeline import Pipeline\n",
    "from sklearn.model_selection import GridSearchCV\n",
    "from sklearn.model_selection import KFold\n",
    "from sklearn.model_selection import cross_validate\n",
    "from sklearn.preprocessing import LabelEncoder\n",
    "from sklearn.ensemble import RandomForestClassifier\n",
    "from sklearn.tree import DecisionTreeClassifier\n",
    "from sklearn.ensemble import GradientBoostingClassifier\n",
    "import sklearn.model_selection as ms\n",
    "from lightgbm import LGBMClassifier\n",
    "import xgboost as xgb\n",
    "from sklearn.ensemble import ExtraTreesClassifier\n",
    "from sklearn.ensemble import VotingClassifier\n",
    "from sklearn.model_selection import StratifiedKFold\n",
    "\n",
    "\n",
    "\n",
    "sns.set_context('talk')"
   ]
  },
  {
   "cell_type": "markdown",
   "metadata": {},
   "source": [
    "  # I.What's Cooking? - Exploratory Analysis"
   ]
  },
  {
   "cell_type": "code",
   "execution_count": 3,
   "metadata": {},
   "outputs": [],
   "source": [
    "traindf = pd.read_json('train.json', orient='columns')\n",
    "testdf = pd.read_json('test.json', orient='columns')"
   ]
  },
  {
   "cell_type": "markdown",
   "metadata": {},
   "source": [
    "#### *First look of the training data:*"
   ]
  },
  {
   "cell_type": "code",
   "execution_count": 4,
   "metadata": {},
   "outputs": [
    {
     "data": {
      "text/html": [
       "<div>\n",
       "<style scoped>\n",
       "    .dataframe tbody tr th:only-of-type {\n",
       "        vertical-align: middle;\n",
       "    }\n",
       "\n",
       "    .dataframe tbody tr th {\n",
       "        vertical-align: top;\n",
       "    }\n",
       "\n",
       "    .dataframe thead th {\n",
       "        text-align: right;\n",
       "    }\n",
       "</style>\n",
       "<table border=\"1\" class=\"dataframe\">\n",
       "  <thead>\n",
       "    <tr style=\"text-align: right;\">\n",
       "      <th></th>\n",
       "      <th>cuisine</th>\n",
       "      <th>id</th>\n",
       "      <th>ingredients</th>\n",
       "    </tr>\n",
       "  </thead>\n",
       "  <tbody>\n",
       "    <tr>\n",
       "      <th>0</th>\n",
       "      <td>greek</td>\n",
       "      <td>10259</td>\n",
       "      <td>[romaine lettuce, black olives, grape tomatoes...</td>\n",
       "    </tr>\n",
       "    <tr>\n",
       "      <th>1</th>\n",
       "      <td>southern_us</td>\n",
       "      <td>25693</td>\n",
       "      <td>[plain flour, ground pepper, salt, tomatoes, g...</td>\n",
       "    </tr>\n",
       "    <tr>\n",
       "      <th>2</th>\n",
       "      <td>filipino</td>\n",
       "      <td>20130</td>\n",
       "      <td>[eggs, pepper, salt, mayonaise, cooking oil, g...</td>\n",
       "    </tr>\n",
       "    <tr>\n",
       "      <th>3</th>\n",
       "      <td>indian</td>\n",
       "      <td>22213</td>\n",
       "      <td>[water, vegetable oil, wheat, salt]</td>\n",
       "    </tr>\n",
       "    <tr>\n",
       "      <th>4</th>\n",
       "      <td>indian</td>\n",
       "      <td>13162</td>\n",
       "      <td>[black pepper, shallots, cornflour, cayenne pe...</td>\n",
       "    </tr>\n",
       "  </tbody>\n",
       "</table>\n",
       "</div>"
      ],
      "text/plain": [
       "       cuisine     id                                        ingredients\n",
       "0        greek  10259  [romaine lettuce, black olives, grape tomatoes...\n",
       "1  southern_us  25693  [plain flour, ground pepper, salt, tomatoes, g...\n",
       "2     filipino  20130  [eggs, pepper, salt, mayonaise, cooking oil, g...\n",
       "3       indian  22213                [water, vegetable oil, wheat, salt]\n",
       "4       indian  13162  [black pepper, shallots, cornflour, cayenne pe..."
      ]
     },
     "execution_count": 4,
     "metadata": {},
     "output_type": "execute_result"
    }
   ],
   "source": [
    "traindf.head()"
   ]
  },
  {
   "cell_type": "code",
   "execution_count": 7,
   "metadata": {},
   "outputs": [
    {
     "name": "stdout",
     "output_type": "stream",
     "text": [
      "<class 'pandas.core.frame.DataFrame'>\n",
      "RangeIndex: 39774 entries, 0 to 39773\n",
      "Data columns (total 3 columns):\n",
      "cuisine        39774 non-null object\n",
      "id             39774 non-null int64\n",
      "ingredients    39774 non-null object\n",
      "dtypes: int64(1), object(2)\n",
      "memory usage: 932.3+ KB\n"
     ]
    }
   ],
   "source": [
    "traindf.info()"
   ]
  },
  {
   "cell_type": "code",
   "execution_count": 5,
   "metadata": {},
   "outputs": [
    {
     "data": {
      "text/plain": [
       "(39774, 3)"
      ]
     },
     "execution_count": 5,
     "metadata": {},
     "output_type": "execute_result"
    }
   ],
   "source": [
    "traindf.shape # 39774 observations, 3 columns"
   ]
  },
  {
   "cell_type": "code",
   "execution_count": 13,
   "metadata": {},
   "outputs": [
    {
     "name": "stdout",
     "output_type": "stream",
     "text": [
      "The training data consists of 39774 recipes\n"
     ]
    }
   ],
   "source": [
    "print(\"The training data consists of {} recipes\".format(len(traindf)))"
   ]
  },
  {
   "cell_type": "code",
   "execution_count": 4,
   "metadata": {},
   "outputs": [
    {
     "name": "stdout",
     "output_type": "stream",
     "text": [
      "First ten elements in our training sample:\n"
     ]
    },
    {
     "data": {
      "text/html": [
       "<div>\n",
       "<style scoped>\n",
       "    .dataframe tbody tr th:only-of-type {\n",
       "        vertical-align: middle;\n",
       "    }\n",
       "\n",
       "    .dataframe tbody tr th {\n",
       "        vertical-align: top;\n",
       "    }\n",
       "\n",
       "    .dataframe thead th {\n",
       "        text-align: right;\n",
       "    }\n",
       "</style>\n",
       "<table border=\"1\" class=\"dataframe\">\n",
       "  <thead>\n",
       "    <tr style=\"text-align: right;\">\n",
       "      <th></th>\n",
       "      <th>cuisine</th>\n",
       "      <th>id</th>\n",
       "      <th>ingredients</th>\n",
       "    </tr>\n",
       "  </thead>\n",
       "  <tbody>\n",
       "    <tr>\n",
       "      <th>0</th>\n",
       "      <td>greek</td>\n",
       "      <td>10259</td>\n",
       "      <td>[romaine lettuce, black olives, grape tomatoes...</td>\n",
       "    </tr>\n",
       "    <tr>\n",
       "      <th>1</th>\n",
       "      <td>southern_us</td>\n",
       "      <td>25693</td>\n",
       "      <td>[plain flour, ground pepper, salt, tomatoes, g...</td>\n",
       "    </tr>\n",
       "    <tr>\n",
       "      <th>2</th>\n",
       "      <td>filipino</td>\n",
       "      <td>20130</td>\n",
       "      <td>[eggs, pepper, salt, mayonaise, cooking oil, g...</td>\n",
       "    </tr>\n",
       "    <tr>\n",
       "      <th>3</th>\n",
       "      <td>indian</td>\n",
       "      <td>22213</td>\n",
       "      <td>[water, vegetable oil, wheat, salt]</td>\n",
       "    </tr>\n",
       "    <tr>\n",
       "      <th>4</th>\n",
       "      <td>indian</td>\n",
       "      <td>13162</td>\n",
       "      <td>[black pepper, shallots, cornflour, cayenne pe...</td>\n",
       "    </tr>\n",
       "    <tr>\n",
       "      <th>5</th>\n",
       "      <td>jamaican</td>\n",
       "      <td>6602</td>\n",
       "      <td>[plain flour, sugar, butter, eggs, fresh ginge...</td>\n",
       "    </tr>\n",
       "    <tr>\n",
       "      <th>6</th>\n",
       "      <td>spanish</td>\n",
       "      <td>42779</td>\n",
       "      <td>[olive oil, salt, medium shrimp, pepper, garli...</td>\n",
       "    </tr>\n",
       "    <tr>\n",
       "      <th>7</th>\n",
       "      <td>italian</td>\n",
       "      <td>3735</td>\n",
       "      <td>[sugar, pistachio nuts, white almond bark, flo...</td>\n",
       "    </tr>\n",
       "    <tr>\n",
       "      <th>8</th>\n",
       "      <td>mexican</td>\n",
       "      <td>16903</td>\n",
       "      <td>[olive oil, purple onion, fresh pineapple, por...</td>\n",
       "    </tr>\n",
       "    <tr>\n",
       "      <th>9</th>\n",
       "      <td>italian</td>\n",
       "      <td>12734</td>\n",
       "      <td>[chopped tomatoes, fresh basil, garlic, extra-...</td>\n",
       "    </tr>\n",
       "  </tbody>\n",
       "</table>\n",
       "</div>"
      ],
      "text/plain": [
       "       cuisine     id                                        ingredients\n",
       "0        greek  10259  [romaine lettuce, black olives, grape tomatoes...\n",
       "1  southern_us  25693  [plain flour, ground pepper, salt, tomatoes, g...\n",
       "2     filipino  20130  [eggs, pepper, salt, mayonaise, cooking oil, g...\n",
       "3       indian  22213                [water, vegetable oil, wheat, salt]\n",
       "4       indian  13162  [black pepper, shallots, cornflour, cayenne pe...\n",
       "5     jamaican   6602  [plain flour, sugar, butter, eggs, fresh ginge...\n",
       "6      spanish  42779  [olive oil, salt, medium shrimp, pepper, garli...\n",
       "7      italian   3735  [sugar, pistachio nuts, white almond bark, flo...\n",
       "8      mexican  16903  [olive oil, purple onion, fresh pineapple, por...\n",
       "9      italian  12734  [chopped tomatoes, fresh basil, garlic, extra-..."
      ]
     },
     "execution_count": 4,
     "metadata": {},
     "output_type": "execute_result"
    }
   ],
   "source": [
    "print(\"First ten elements in our training sample:\")\n",
    "traindf.head(10)"
   ]
  },
  {
   "cell_type": "markdown",
   "metadata": {},
   "source": [
    "#### *Let's Take a quick look on test sample also:*"
   ]
  },
  {
   "cell_type": "code",
   "execution_count": 6,
   "metadata": {},
   "outputs": [
    {
     "name": "stdout",
     "output_type": "stream",
     "text": [
      "<class 'pandas.core.frame.DataFrame'>\n",
      "RangeIndex: 9944 entries, 0 to 9943\n",
      "Data columns (total 2 columns):\n",
      "id             9944 non-null int64\n",
      "ingredients    9944 non-null object\n",
      "dtypes: int64(1), object(1)\n",
      "memory usage: 155.5+ KB\n"
     ]
    }
   ],
   "source": [
    "testdf.info()"
   ]
  },
  {
   "cell_type": "code",
   "execution_count": 8,
   "metadata": {},
   "outputs": [
    {
     "data": {
      "text/plain": [
       "(9944, 2)"
      ]
     },
     "execution_count": 8,
     "metadata": {},
     "output_type": "execute_result"
    }
   ],
   "source": [
    "testdf.shape # 9944 observations, 2 columns"
   ]
  },
  {
   "cell_type": "code",
   "execution_count": 17,
   "metadata": {},
   "outputs": [
    {
     "name": "stdout",
     "output_type": "stream",
     "text": [
      "The test data consists of 9944 recipes\n"
     ]
    }
   ],
   "source": [
    "print(\"The test data consists of {} recipes\".format(len(testdf)))"
   ]
  },
  {
   "cell_type": "code",
   "execution_count": 5,
   "metadata": {},
   "outputs": [
    {
     "name": "stdout",
     "output_type": "stream",
     "text": [
      "First ten elements in our test sample:\n"
     ]
    },
    {
     "data": {
      "text/html": [
       "<div>\n",
       "<style scoped>\n",
       "    .dataframe tbody tr th:only-of-type {\n",
       "        vertical-align: middle;\n",
       "    }\n",
       "\n",
       "    .dataframe tbody tr th {\n",
       "        vertical-align: top;\n",
       "    }\n",
       "\n",
       "    .dataframe thead th {\n",
       "        text-align: right;\n",
       "    }\n",
       "</style>\n",
       "<table border=\"1\" class=\"dataframe\">\n",
       "  <thead>\n",
       "    <tr style=\"text-align: right;\">\n",
       "      <th></th>\n",
       "      <th>id</th>\n",
       "      <th>ingredients</th>\n",
       "    </tr>\n",
       "  </thead>\n",
       "  <tbody>\n",
       "    <tr>\n",
       "      <th>0</th>\n",
       "      <td>18009</td>\n",
       "      <td>[baking powder, eggs, all-purpose flour, raisi...</td>\n",
       "    </tr>\n",
       "    <tr>\n",
       "      <th>1</th>\n",
       "      <td>28583</td>\n",
       "      <td>[sugar, egg yolks, corn starch, cream of tarta...</td>\n",
       "    </tr>\n",
       "    <tr>\n",
       "      <th>2</th>\n",
       "      <td>41580</td>\n",
       "      <td>[sausage links, fennel bulb, fronds, olive oil...</td>\n",
       "    </tr>\n",
       "    <tr>\n",
       "      <th>3</th>\n",
       "      <td>29752</td>\n",
       "      <td>[meat cuts, file powder, smoked sausage, okra,...</td>\n",
       "    </tr>\n",
       "    <tr>\n",
       "      <th>4</th>\n",
       "      <td>35687</td>\n",
       "      <td>[ground black pepper, salt, sausage casings, l...</td>\n",
       "    </tr>\n",
       "    <tr>\n",
       "      <th>5</th>\n",
       "      <td>38527</td>\n",
       "      <td>[baking powder, all-purpose flour, peach slice...</td>\n",
       "    </tr>\n",
       "    <tr>\n",
       "      <th>6</th>\n",
       "      <td>19666</td>\n",
       "      <td>[grape juice, orange, white zinfandel]</td>\n",
       "    </tr>\n",
       "    <tr>\n",
       "      <th>7</th>\n",
       "      <td>41217</td>\n",
       "      <td>[ground ginger, white pepper, green onions, or...</td>\n",
       "    </tr>\n",
       "    <tr>\n",
       "      <th>8</th>\n",
       "      <td>28753</td>\n",
       "      <td>[diced onions, taco seasoning mix, all-purpose...</td>\n",
       "    </tr>\n",
       "    <tr>\n",
       "      <th>9</th>\n",
       "      <td>22659</td>\n",
       "      <td>[eggs, cherries, dates, dark muscovado sugar, ...</td>\n",
       "    </tr>\n",
       "  </tbody>\n",
       "</table>\n",
       "</div>"
      ],
      "text/plain": [
       "      id                                        ingredients\n",
       "0  18009  [baking powder, eggs, all-purpose flour, raisi...\n",
       "1  28583  [sugar, egg yolks, corn starch, cream of tarta...\n",
       "2  41580  [sausage links, fennel bulb, fronds, olive oil...\n",
       "3  29752  [meat cuts, file powder, smoked sausage, okra,...\n",
       "4  35687  [ground black pepper, salt, sausage casings, l...\n",
       "5  38527  [baking powder, all-purpose flour, peach slice...\n",
       "6  19666             [grape juice, orange, white zinfandel]\n",
       "7  41217  [ground ginger, white pepper, green onions, or...\n",
       "8  28753  [diced onions, taco seasoning mix, all-purpose...\n",
       "9  22659  [eggs, cherries, dates, dark muscovado sugar, ..."
      ]
     },
     "execution_count": 5,
     "metadata": {},
     "output_type": "execute_result"
    }
   ],
   "source": [
    "print(\"First ten elements in our test sample:\")\n",
    "testdf.head(10)"
   ]
  },
  {
   "cell_type": "markdown",
   "metadata": {},
   "source": [
    "The test and train data provided in this Kaggle competition are in json format. We have imported the data as a data frame object and the above lines of code show us the initial look of both samples. We observe that each recipe is a separate row and has:\n",
    "- a unique identifier - the 'id' column; \n",
    "- the type of cuisine in which this recipe falls - this is our target variable (the test sample does not have this column);\n",
    "- a list object with ingredients - this will be the main source of explanatory variables in our classification problem.\n"
   ]
  },
  {
   "cell_type": "markdown",
   "metadata": {},
   "source": [
    "### *Let's explore more in depth the target variable *"
   ]
  },
  {
   "cell_type": "code",
   "execution_count": 23,
   "metadata": {},
   "outputs": [
    {
     "name": "stdout",
     "output_type": "stream",
     "text": [
      "Number of cuisine (Pays) categories: 20\n"
     ]
    },
    {
     "data": {
      "text/html": [
       "<div>\n",
       "<style scoped>\n",
       "    .dataframe tbody tr th:only-of-type {\n",
       "        vertical-align: middle;\n",
       "    }\n",
       "\n",
       "    .dataframe tbody tr th {\n",
       "        vertical-align: top;\n",
       "    }\n",
       "\n",
       "    .dataframe thead th {\n",
       "        text-align: right;\n",
       "    }\n",
       "</style>\n",
       "<table border=\"1\" class=\"dataframe\">\n",
       "  <thead>\n",
       "    <tr style=\"text-align: right;\">\n",
       "      <th></th>\n",
       "      <th>0</th>\n",
       "    </tr>\n",
       "  </thead>\n",
       "  <tbody>\n",
       "    <tr>\n",
       "      <th>0</th>\n",
       "      <td>greek</td>\n",
       "    </tr>\n",
       "    <tr>\n",
       "      <th>1</th>\n",
       "      <td>southern_us</td>\n",
       "    </tr>\n",
       "    <tr>\n",
       "      <th>2</th>\n",
       "      <td>filipino</td>\n",
       "    </tr>\n",
       "    <tr>\n",
       "      <th>3</th>\n",
       "      <td>indian</td>\n",
       "    </tr>\n",
       "    <tr>\n",
       "      <th>4</th>\n",
       "      <td>jamaican</td>\n",
       "    </tr>\n",
       "    <tr>\n",
       "      <th>5</th>\n",
       "      <td>spanish</td>\n",
       "    </tr>\n",
       "    <tr>\n",
       "      <th>6</th>\n",
       "      <td>italian</td>\n",
       "    </tr>\n",
       "    <tr>\n",
       "      <th>7</th>\n",
       "      <td>mexican</td>\n",
       "    </tr>\n",
       "    <tr>\n",
       "      <th>8</th>\n",
       "      <td>chinese</td>\n",
       "    </tr>\n",
       "    <tr>\n",
       "      <th>9</th>\n",
       "      <td>british</td>\n",
       "    </tr>\n",
       "    <tr>\n",
       "      <th>10</th>\n",
       "      <td>thai</td>\n",
       "    </tr>\n",
       "    <tr>\n",
       "      <th>11</th>\n",
       "      <td>vietnamese</td>\n",
       "    </tr>\n",
       "    <tr>\n",
       "      <th>12</th>\n",
       "      <td>cajun_creole</td>\n",
       "    </tr>\n",
       "    <tr>\n",
       "      <th>13</th>\n",
       "      <td>brazilian</td>\n",
       "    </tr>\n",
       "    <tr>\n",
       "      <th>14</th>\n",
       "      <td>french</td>\n",
       "    </tr>\n",
       "    <tr>\n",
       "      <th>15</th>\n",
       "      <td>japanese</td>\n",
       "    </tr>\n",
       "    <tr>\n",
       "      <th>16</th>\n",
       "      <td>irish</td>\n",
       "    </tr>\n",
       "    <tr>\n",
       "      <th>17</th>\n",
       "      <td>korean</td>\n",
       "    </tr>\n",
       "    <tr>\n",
       "      <th>18</th>\n",
       "      <td>moroccan</td>\n",
       "    </tr>\n",
       "    <tr>\n",
       "      <th>19</th>\n",
       "      <td>russian</td>\n",
       "    </tr>\n",
       "  </tbody>\n",
       "</table>\n",
       "</div>"
      ],
      "text/plain": [
       "               0\n",
       "0          greek\n",
       "1    southern_us\n",
       "2       filipino\n",
       "3         indian\n",
       "4       jamaican\n",
       "5        spanish\n",
       "6        italian\n",
       "7        mexican\n",
       "8        chinese\n",
       "9        british\n",
       "10          thai\n",
       "11    vietnamese\n",
       "12  cajun_creole\n",
       "13     brazilian\n",
       "14        french\n",
       "15      japanese\n",
       "16         irish\n",
       "17        korean\n",
       "18      moroccan\n",
       "19       russian"
      ]
     },
     "execution_count": 23,
     "metadata": {},
     "output_type": "execute_result"
    }
   ],
   "source": [
    "print(\"Number of cuisine (Pays) categories: {}\".format(len(traindf.cuisine.unique())))\n",
    "pd.DataFrame(traindf.cuisine.unique())"
   ]
  },
  {
   "cell_type": "markdown",
   "metadata": {},
   "source": [
    "There are 20 different countries (cuisines) which we are going to predict for the test sample. <br> \n",
    "**This means that the our problem is a multi-class classification problem (there are more than 2 categories to predict).** <br>"
   ]
  },
  {
   "cell_type": "markdown",
   "metadata": {},
   "source": [
    "#### Number of recipes in each cuisine category"
   ]
  },
  {
   "cell_type": "code",
   "execution_count": 29,
   "metadata": {},
   "outputs": [
    {
     "data": {
      "text/html": [
       "<div>\n",
       "<style scoped>\n",
       "    .dataframe tbody tr th:only-of-type {\n",
       "        vertical-align: middle;\n",
       "    }\n",
       "\n",
       "    .dataframe tbody tr th {\n",
       "        vertical-align: top;\n",
       "    }\n",
       "\n",
       "    .dataframe thead th {\n",
       "        text-align: right;\n",
       "    }\n",
       "</style>\n",
       "<table border=\"1\" class=\"dataframe\">\n",
       "  <thead>\n",
       "    <tr style=\"text-align: right;\">\n",
       "      <th></th>\n",
       "      <th>Pays</th>\n",
       "      <th>Number of Recipes</th>\n",
       "    </tr>\n",
       "  </thead>\n",
       "  <tbody>\n",
       "    <tr>\n",
       "      <th>0</th>\n",
       "      <td>brazilian</td>\n",
       "      <td>467</td>\n",
       "    </tr>\n",
       "    <tr>\n",
       "      <th>1</th>\n",
       "      <td>russian</td>\n",
       "      <td>489</td>\n",
       "    </tr>\n",
       "    <tr>\n",
       "      <th>2</th>\n",
       "      <td>jamaican</td>\n",
       "      <td>526</td>\n",
       "    </tr>\n",
       "    <tr>\n",
       "      <th>3</th>\n",
       "      <td>irish</td>\n",
       "      <td>667</td>\n",
       "    </tr>\n",
       "    <tr>\n",
       "      <th>4</th>\n",
       "      <td>filipino</td>\n",
       "      <td>755</td>\n",
       "    </tr>\n",
       "    <tr>\n",
       "      <th>5</th>\n",
       "      <td>british</td>\n",
       "      <td>804</td>\n",
       "    </tr>\n",
       "    <tr>\n",
       "      <th>6</th>\n",
       "      <td>moroccan</td>\n",
       "      <td>821</td>\n",
       "    </tr>\n",
       "    <tr>\n",
       "      <th>7</th>\n",
       "      <td>vietnamese</td>\n",
       "      <td>825</td>\n",
       "    </tr>\n",
       "    <tr>\n",
       "      <th>8</th>\n",
       "      <td>korean</td>\n",
       "      <td>830</td>\n",
       "    </tr>\n",
       "    <tr>\n",
       "      <th>9</th>\n",
       "      <td>spanish</td>\n",
       "      <td>989</td>\n",
       "    </tr>\n",
       "    <tr>\n",
       "      <th>10</th>\n",
       "      <td>greek</td>\n",
       "      <td>1175</td>\n",
       "    </tr>\n",
       "    <tr>\n",
       "      <th>11</th>\n",
       "      <td>japanese</td>\n",
       "      <td>1423</td>\n",
       "    </tr>\n",
       "    <tr>\n",
       "      <th>12</th>\n",
       "      <td>thai</td>\n",
       "      <td>1539</td>\n",
       "    </tr>\n",
       "    <tr>\n",
       "      <th>13</th>\n",
       "      <td>cajun_creole</td>\n",
       "      <td>1546</td>\n",
       "    </tr>\n",
       "    <tr>\n",
       "      <th>14</th>\n",
       "      <td>french</td>\n",
       "      <td>2646</td>\n",
       "    </tr>\n",
       "    <tr>\n",
       "      <th>15</th>\n",
       "      <td>chinese</td>\n",
       "      <td>2673</td>\n",
       "    </tr>\n",
       "    <tr>\n",
       "      <th>16</th>\n",
       "      <td>indian</td>\n",
       "      <td>3003</td>\n",
       "    </tr>\n",
       "    <tr>\n",
       "      <th>17</th>\n",
       "      <td>southern_us</td>\n",
       "      <td>4320</td>\n",
       "    </tr>\n",
       "    <tr>\n",
       "      <th>18</th>\n",
       "      <td>mexican</td>\n",
       "      <td>6438</td>\n",
       "    </tr>\n",
       "    <tr>\n",
       "      <th>19</th>\n",
       "      <td>italian</td>\n",
       "      <td>7838</td>\n",
       "    </tr>\n",
       "  </tbody>\n",
       "</table>\n",
       "</div>"
      ],
      "text/plain": [
       "            Pays  Number of Recipes\n",
       "0      brazilian                467\n",
       "1        russian                489\n",
       "2       jamaican                526\n",
       "3          irish                667\n",
       "4       filipino                755\n",
       "5        british                804\n",
       "6       moroccan                821\n",
       "7     vietnamese                825\n",
       "8         korean                830\n",
       "9        spanish                989\n",
       "10         greek               1175\n",
       "11      japanese               1423\n",
       "12          thai               1539\n",
       "13  cajun_creole               1546\n",
       "14        french               2646\n",
       "15       chinese               2673\n",
       "16        indian               3003\n",
       "17   southern_us               4320\n",
       "18       mexican               6438\n",
       "19       italian               7838"
      ]
     },
     "execution_count": 29,
     "metadata": {},
     "output_type": "execute_result"
    }
   ],
   "source": [
    "traindf.groupby(\"cuisine\")['id'].count().sort_values().transpose().reset_index().rename(columns={'cuisine':\"Pays\", 'id':\"Number of Recipes\"})"
   ]
  },
  {
   "cell_type": "code",
   "execution_count": 4,
   "metadata": {},
   "outputs": [
    {
     "data": {
      "image/png": "[encoded data removed]",
      "text/plain": [
       "<Figure size 2520x360 with 1 Axes>"
      ]
     },
     "metadata": {},
     "output_type": "display_data"
    }
   ],
   "source": [
    "plt.figure(figsize=(35,5))\n",
    "ax = sns.barplot(\"Pays\",\"Amount\",data=traindf\n",
    "                 .groupby(\"cuisine\")['id']\n",
    "                 .count()\n",
    "                 .sort_values()\n",
    "                 .transpose()\n",
    "                 .reset_index()\n",
    "                 .rename(columns={'cuisine':\"Pays\", 'id':\"Amount\"}))\n",
    "plt.title(\"Quantité de recette par Pays\")\n",
    "plt.show()"
   ]
  },
  {
   "cell_type": "markdown",
   "metadata": {},
   "source": [
    "From the table and the plot of label distribution, we observe that the most common category in our sample is the Italian cuisine, followed by the Mexican.\n",
    "The least represented cuisines are the Irish, Jamaican, Russian and Brazilian."
   ]
  },
  {
   "cell_type": "markdown",
   "metadata": {},
   "source": [
    "### * Let's take a closer look at the ingredients in our training sample *"
   ]
  },
  {
   "cell_type": "code",
   "execution_count": 5,
   "metadata": {},
   "outputs": [
    {
     "data": {
      "text/plain": [
       "<matplotlib.axes._subplots.AxesSubplot at 0x7f779d4a4198>"
      ]
     },
     "execution_count": 5,
     "metadata": {},
     "output_type": "execute_result"
    },
    {
     "data": {
      "image/png": "[encoded data removed]",
      "text/plain": [
       "<Figure size 1080x720 with 1 Axes>"
      ]
     },
     "metadata": {},
     "output_type": "display_data"
    }
   ],
   "source": [
    "f, ax = plt.subplots(figsize=(15,10))\n",
    "sns.barplot(x='number_ingredients_meal',\n",
    "            y='number_meals',\n",
    "            data= (traindf.ingredients.map(lambda l: len(l))\n",
    "                    .value_counts()\n",
    "                    .sort_index()\n",
    "                    .reset_index()\n",
    "                    .rename(columns={'index':'number_ingredients_meal', 'ingredients':'number_meals'}))\n",
    "            )"
   ]
  },
  {
   "cell_type": "markdown",
   "metadata": {},
   "source": [
    "The distribution of recipe length is right-skewed as we can see from the histogram above. The maximum number of ingredients is 65 and the minimum is 1.\n",
    "\n",
    "I found some recipes which consist of only 1 ingredient like below.\n",
    "\n",
    "water => Japanese\n",
    "butter => Indian\n",
    "butter => French\n",
    "It could get models confused. Unfortunately, such recipes exist in the test dataset though."
   ]
  },
  {
   "cell_type": "markdown",
   "metadata": {},
   "source": [
    "#### * Let's take a quick glance at the extreme *"
   ]
  },
  {
   "cell_type": "code",
   "execution_count": 33,
   "metadata": {},
   "outputs": [
    {
     "name": "stdout",
     "output_type": "stream",
     "text": [
      "Explore the ingredients in the longest recipe (65) in our training set:\n",
      "\n",
      "[['fettucine', 'fresh marjoram', 'minced garlic', 'olive oil', 'garlic powder', 'large eggs', 'Alfredo sauce', 'vegetable oil', 'cajun seasoning', 'shredded romano cheese', 'basil dried leaves', 'salt', 'cayenne pepper', 'scallions', 'red bell pepper', 'boneless skinless chicken breast halves', 'soba', 'pasta sauce', 'kosher salt', 'milk', 'fresh ginger', 'ground black pepper', 'flour', 'cooked chicken', 'coarse salt', 'lemon', 'diced tomatoes', 'garlic', 'rice vinegar', 'NeufchÃ¢tel', 'garlic cloves', 'dried parsley', 'frozen artichoke hearts', 'penne', 'pepper', 'sweet onion', 'part-skim mozzarella cheese', 'parmigiano reggiano cheese', 'basil leaves', 'onion powder', 'red wine vinegar', 'red pepper flakes', 'orzo', 'crushed red pepper', 'all-purpose flour', 'freshly ground pepper', 'sliced mushrooms', 'panko breadcrumbs', 'plum tomatoes', 'fresh basil', 'fresh leav spinach', 'water', 'sun-dried tomatoes', 'ground pepper', 'grated parmesan cheese', 'boneless skinless chicken breasts', 'chicken cutlets', 'butter', 'multi-grain penne pasta', 'extra-virgin olive oil', 'cilantro leaves', 'green pepper', 'shredded mozzarella cheese', 'fresh parsley', 'spaghetti']]\n",
      "\n",
      "Cuisine: ['italian']\n"
     ]
    }
   ],
   "source": [
    "longrecipes = traindf[traindf['ingredients'].str.len() > 30]\n",
    "\n",
    "print(\"Explore the ingredients in the longest recipe (65) in our training set:\" + \"\\n\")\n",
    "print(str(list(longrecipes[longrecipes['ingredients'].str.len() == 65].ingredients.values)) + \"\\n\")\n",
    "print(\"Cuisine: \" + str(list(longrecipes[longrecipes['ingredients'].str.len() == 65].cuisine)))"
   ]
  },
  {
   "cell_type": "markdown",
   "metadata": {},
   "source": [
    "65 seems beyond all that one can even imagine. So, my guess is that the case is more about wrong data in our sample.   "
   ]
  },
  {
   "cell_type": "code",
   "execution_count": 37,
   "metadata": {},
   "outputs": [
    {
     "name": "stdout",
     "output_type": "stream",
     "text": [
      "Explore the ingredients in the shortest recipes in our training set:\n",
      "\n",
      "[['sushi rice'], ['dried rice noodles'], ['plain low-fat yogurt'], ['unsalted butter'], ['udon'], ['sticky rice'], ['butter'], ['corn tortillas'], ['grained'], ['lemonade concentrate'], ['jasmine rice'], ['unsalted butter'], ['cherry tomatoes'], ['butter'], ['cumin seed'], ['haricots verts'], ['vegetable oil'], ['spanish chorizo'], ['sweetened condensed milk'], ['water'], ['phyllo'], ['unsalted butter']]\n",
      "And there corresponding labels\n",
      "\n",
      "['japanese', 'vietnamese', 'indian', 'indian', 'japanese', 'thai', 'indian', 'mexican', 'thai', 'southern_us', 'thai', 'indian', 'italian', 'french', 'indian', 'french', 'mexican', 'spanish', 'spanish', 'japanese', 'greek', 'indian']\n"
     ]
    }
   ],
   "source": [
    "shortrecipes = traindf[traindf['ingredients'].str.len() <= 2]\n",
    "\n",
    "print(\"Explore the ingredients in the shortest recipes in our training set:\" + \"\\n\")\n",
    "print(list(traindf[traindf['ingredients'].str.len() == 1].ingredients.values))\n",
    "print(\"And there corresponding labels\" + \"\\n\")\n",
    "print(list(traindf[traindf['ingredients'].str.len() == 1].cuisine.values))\n"
   ]
  },
  {
   "cell_type": "markdown",
   "metadata": {},
   "source": [
    "It seems that most of the shortest recipes are part of the Asian cuisine (Indian, Japanese). Some of the recipes consist only of rice which seems accurate, but several of them (like water and butter only) look suspiciously wrong. It should be considered whether this data is wrong (for example, this is not the whole recipe due to some reasons). <br><br>\n"
   ]
  },
  {
   "cell_type": "markdown",
   "metadata": {},
   "source": [
    "####  Let's see the number of ingredient by country"
   ]
  },
  {
   "cell_type": "code",
   "execution_count": 6,
   "metadata": {},
   "outputs": [
    {
     "data": {
      "text/plain": [
       "<matplotlib.axes._subplots.AxesSubplot at 0x7f779cc37780>"
      ]
     },
     "execution_count": 6,
     "metadata": {},
     "output_type": "execute_result"
    },
    {
     "data": {
      "image/png": "[encoded data removed]",
      "text/plain": [
       "<Figure size 2304x1080 with 1 Axes>"
      ]
     },
     "metadata": {},
     "output_type": "display_data"
    }
   ],
   "source": [
    "f, ax = plt.subplots(figsize=(32,15))\n",
    "sns.boxplot(x='cuisine',\n",
    "            y='number_ingredients',\n",
    "            data= (pd.concat([traindf.cuisine,traindf.ingredients.map(lambda l: len(l))], axis=1)\n",
    "                   .rename(columns={'ingredients':'number_ingredients'}))\n",
    "            )\n"
   ]
  },
  {
   "cell_type": "markdown",
   "metadata": {},
   "source": [
    "From the box plots of recipe length distributions, we can make several observations: <br>\n",
    "- The Moroccan cuisine seems to have the longest recipes on average compared to all the other countries in our sample;\n",
    "-  The Irish, British, French, Greek and Southern_us seems to have the shortest recipes;\n",
    "- There exist outliers in all cuisines (some of them are extreme outliers like 65 for Italian we were talking about earlier);\n",
    "- Most of the Asian cuisines (Vietnamese, Thai, Indian) seems to have larger recipes on average than most of the other countries ; \n",
    "- Recipes part of the European cuisine tend to be with average length or shorter compared to the rest of the sample which means that our 65 seems strongly innacurate."
   ]
  },
  {
   "cell_type": "markdown",
   "metadata": {},
   "source": [
    "####  Which are the most common ingredients in the whole training sample? "
   ]
  },
  {
   "cell_type": "code",
   "execution_count": 19,
   "metadata": {},
   "outputs": [],
   "source": [
    "ingredients_individual = Counter([ingredient for ingredient_list in traindf.ingredients for ingredient in ingredient_list])\n",
    "ingredients_individual = pd.DataFrame.from_dict(ingredients_individual,orient='index').reset_index()"
   ]
  },
  {
   "cell_type": "markdown",
   "metadata": {},
   "source": [
    "![](http://)Il y a 6714 ingrédients différents dans notre training set"
   ]
  },
  {
   "cell_type": "markdown",
   "metadata": {},
   "source": [
    "####  And what about the test sample? "
   ]
  },
  {
   "cell_type": "code",
   "execution_count": 20,
   "metadata": {},
   "outputs": [],
   "source": [
    "ingredients_individualtest = Counter([ingredient for ingredient_list in testdf.ingredients for ingredient in ingredient_list])\n",
    "ingredients_individualtest = pd.DataFrame.from_dict(ingredients_individualtest,orient='index').reset_index()"
   ]
  },
  {
   "cell_type": "code",
   "execution_count": 75,
   "metadata": {},
   "outputs": [
    {
     "data": {
      "text/plain": [
       "(4484, 2)"
      ]
     },
     "execution_count": 75,
     "metadata": {},
     "output_type": "execute_result"
    }
   ],
   "source": [
    "ingredients_individualtest.shape"
   ]
  },
  {
   "cell_type": "markdown",
   "metadata": {},
   "source": [
    "![](http://)Il y a 4484 ingrédients différents dans notre training set"
   ]
  },
  {
   "cell_type": "markdown",
   "metadata": {},
   "source": [
    "**Looklike there are differences between the two dataset, we need to watch out this. Lets see if we can visualise ingredient that are in the training set and not in the test set**"
   ]
  },
  {
   "cell_type": "code",
   "execution_count": 151,
   "metadata": {},
   "outputs": [
    {
     "name": "stdout",
     "output_type": "stream",
     "text": [
      "(2653, 1)\n"
     ]
    }
   ],
   "source": [
    "IngTrain = ingredients_individual['index']\n",
    "IngTrain =set(IngTrain)\n",
    "\n",
    "IngTest = ingredients_individualtest['index']\n",
    "IngTest = set(IngTest)\n",
    "\n",
    "diff1 = IngTrain.difference(IngTest)\n",
    "diff1 = pd.DataFrame(diff1)\n",
    "print(diff1.shape)"
   ]
  },
  {
   "cell_type": "markdown",
   "metadata": {},
   "source": [
    "Il y a 2653 ingrédients présent dans le dataset train qui ne sont pas présent dans le dataset test. C'est de l'information qui ne sera pas utilisé dans notre étude, pour notre dataset test mais ça ne veux pas dire que cette information ne sera pas utile plus tard dans le cas ou notre modèle sera implémenté pour d'autres données avec d'autres recettes."
   ]
  },
  {
   "cell_type": "markdown",
   "metadata": {},
   "source": [
    "** Now let's visualise ingredient that aren't in the training set but are in the test set **"
   ]
  },
  {
   "cell_type": "code",
   "execution_count": 152,
   "metadata": {},
   "outputs": [
    {
     "name": "stdout",
     "output_type": "stream",
     "text": [
      "(423, 1)\n"
     ]
    }
   ],
   "source": [
    "diff2 = IngTest.difference(IngTrain)\n",
    "diff2 = pd.DataFrame(diff2)\n",
    "print(diff2.shape)"
   ]
  },
  {
   "cell_type": "markdown",
   "metadata": {},
   "source": [
    "Il y a 423 ingrédients présent dans le test set qui ne sont pas présent dans le train set. Cela pourrait s'avérer problématique car l'algo mis en place n'aura pas ses infos implementé durant la phase d'apprentissage. Une solution envisageable pourrai être de remplacer ces ingrédients manquants par des ingrédients similaires mais présent dans le training set. \n",
    "which can be considered as a future opportunity for improvement of these models."
   ]
  },
  {
   "cell_type": "markdown",
   "metadata": {},
   "source": [
    "**Let's see the most common ingredient in the training sample**"
   ]
  },
  {
   "cell_type": "code",
   "execution_count": null,
   "metadata": {},
   "outputs": [],
   "source": [
    "s1 = s1.rename(columns={'index':'Ingredient', 0:'Count'})"
   ]
  },
  {
   "cell_type": "code",
   "execution_count": 64,
   "metadata": {},
   "outputs": [],
   "source": [
    "ingredients_individual = ingredients_individual.rename(columns={'index':'Ingredient', 0:'Count'})"
   ]
  },
  {
   "cell_type": "code",
   "execution_count": 52,
   "metadata": {},
   "outputs": [
    {
     "name": "stdout",
     "output_type": "stream",
     "text": [
      "The most common ingredients in our training sample:\n",
      "\n",
      "\n",
      "              Ingredient  Count\n",
      "11                  salt  18049\n",
      "54             olive oil   7972\n",
      "35                onions   7972\n",
      "29                 water   7457\n",
      "3                 garlic   7380\n",
      "47                 sugar   6434\n",
      "105        garlic cloves   6237\n",
      "27                butter   4848\n",
      "13   ground black pepper   4785\n",
      "115    all-purpose flour   4632\n",
      "4                 pepper   4438\n",
      "19         vegetable oil   4385\n",
      "15                  eggs   3388\n",
      "26             soy sauce   3296\n",
      "79           kosher salt   3113\n",
      "228         green onions   3078\n",
      "12              tomatoes   3058\n",
      "204           large eggs   2948\n",
      "200              carrots   2814\n",
      "312      unsalted butter   2782\n"
     ]
    }
   ],
   "source": [
    "\n",
    "print(\"The most common ingredients in our training sample:\")\n",
    "print(\"\\n\")\n",
    "print(ingredients_individual.sort_values('Count', ascending=False).head(20))"
   ]
  },
  {
   "cell_type": "code",
   "execution_count": 66,
   "metadata": {},
   "outputs": [
    {
     "data": {
      "text/plain": [
       "<matplotlib.axes._subplots.AxesSubplot at 0x2ad4e077d30>"
      ]
     },
     "execution_count": 66,
     "metadata": {},
     "output_type": "execute_result"
    },
    {
     "data": {
      "image/png": "[encoded data removed]",
      "text/plain": [
       "<Figure size 432x288 with 1 Axes>"
      ]
     },
     "metadata": {},
     "output_type": "display_data"
    }
   ],
   "source": [
    "sns.barplot(x = 'Count', \n",
    "            y = 'Ingredient',\n",
    "            data = ingredients_individual.sort_values('Count', ascending=False).head(10))"
   ]
  },
  {
   "cell_type": "markdown",
   "metadata": {},
   "source": [
    "It seems that salt is the most commonly used ingredient. We also find water, onions, garlic and olive oil <br> \n",
    "Salt is such a common ingredient that we expect it to have poor predictive power in recognizing the type of cuisine.\n",
    "\n",
    "We need to watch out garlic and garlic gloves, they seemed to be the same ingredient but with differents notations"
   ]
  },
  {
   "cell_type": "markdown",
   "metadata": {},
   "source": [
    "And let's see the less common ingredient"
   ]
  },
  {
   "cell_type": "code",
   "execution_count": 11,
   "metadata": {},
   "outputs": [
    {
     "data": {
      "text/html": [
       "<div>\n",
       "<style scoped>\n",
       "    .dataframe tbody tr th:only-of-type {\n",
       "        vertical-align: middle;\n",
       "    }\n",
       "\n",
       "    .dataframe tbody tr th {\n",
       "        vertical-align: top;\n",
       "    }\n",
       "\n",
       "    .dataframe thead th {\n",
       "        text-align: right;\n",
       "    }\n",
       "</style>\n",
       "<table border=\"1\" class=\"dataframe\">\n",
       "  <thead>\n",
       "    <tr style=\"text-align: right;\">\n",
       "      <th></th>\n",
       "      <th>Ingredient</th>\n",
       "      <th>Count</th>\n",
       "    </tr>\n",
       "  </thead>\n",
       "  <tbody>\n",
       "    <tr>\n",
       "      <th>5056</th>\n",
       "      <td>egg roll skins</td>\n",
       "      <td>1</td>\n",
       "    </tr>\n",
       "    <tr>\n",
       "      <th>5054</th>\n",
       "      <td>squid tube</td>\n",
       "      <td>1</td>\n",
       "    </tr>\n",
       "    <tr>\n",
       "      <th>5053</th>\n",
       "      <td>butternut</td>\n",
       "      <td>1</td>\n",
       "    </tr>\n",
       "    <tr>\n",
       "      <th>5050</th>\n",
       "      <td>low sodium fat free vegetable broth</td>\n",
       "      <td>1</td>\n",
       "    </tr>\n",
       "    <tr>\n",
       "      <th>5049</th>\n",
       "      <td>garbonzo bean</td>\n",
       "      <td>1</td>\n",
       "    </tr>\n",
       "    <tr>\n",
       "      <th>5048</th>\n",
       "      <td>whole garam masala</td>\n",
       "      <td>1</td>\n",
       "    </tr>\n",
       "    <tr>\n",
       "      <th>5043</th>\n",
       "      <td>rose hip tea bags</td>\n",
       "      <td>1</td>\n",
       "    </tr>\n",
       "    <tr>\n",
       "      <th>5042</th>\n",
       "      <td>small potatoes</td>\n",
       "      <td>1</td>\n",
       "    </tr>\n",
       "    <tr>\n",
       "      <th>5038</th>\n",
       "      <td>cherry syrup</td>\n",
       "      <td>1</td>\n",
       "    </tr>\n",
       "    <tr>\n",
       "      <th>5037</th>\n",
       "      <td>frozen fruit</td>\n",
       "      <td>1</td>\n",
       "    </tr>\n",
       "    <tr>\n",
       "      <th>5035</th>\n",
       "      <td>sauerkraut juice</td>\n",
       "      <td>1</td>\n",
       "    </tr>\n",
       "    <tr>\n",
       "      <th>5034</th>\n",
       "      <td>no-calorie sweetener</td>\n",
       "      <td>1</td>\n",
       "    </tr>\n",
       "    <tr>\n",
       "      <th>5033</th>\n",
       "      <td>Bob Evans Italian Sausage</td>\n",
       "      <td>1</td>\n",
       "    </tr>\n",
       "    <tr>\n",
       "      <th>5022</th>\n",
       "      <td>extra firm silken tofu</td>\n",
       "      <td>1</td>\n",
       "    </tr>\n",
       "    <tr>\n",
       "      <th>6713</th>\n",
       "      <td>crushed cheese crackers</td>\n",
       "      <td>1</td>\n",
       "    </tr>\n",
       "  </tbody>\n",
       "</table>\n",
       "</div>"
      ],
      "text/plain": [
       "                               Ingredient  Count\n",
       "5056                       egg roll skins      1\n",
       "5054                           squid tube      1\n",
       "5053                            butternut      1\n",
       "5050  low sodium fat free vegetable broth      1\n",
       "5049                        garbonzo bean      1\n",
       "5048                   whole garam masala      1\n",
       "5043                    rose hip tea bags      1\n",
       "5042                       small potatoes      1\n",
       "5038                         cherry syrup      1\n",
       "5037                         frozen fruit      1\n",
       "5035                     sauerkraut juice      1\n",
       "5034                 no-calorie sweetener      1\n",
       "5033            Bob Evans Italian Sausage      1\n",
       "5022               extra firm silken tofu      1\n",
       "6713              crushed cheese crackers      1"
      ]
     },
     "execution_count": 11,
     "metadata": {},
     "output_type": "execute_result"
    }
   ],
   "source": [
    "ingredients_individual.sort_values('Count', ascending=False).tail(15)"
   ]
  },
  {
   "cell_type": "markdown",
   "metadata": {},
   "source": [
    "### Top Bigrams by Cuisines"
   ]
  },
  {
   "cell_type": "code",
   "execution_count": 68,
   "metadata": {},
   "outputs": [],
   "source": [
    "import nltk\n",
    "from collections import Counter"
   ]
  },
  {
   "cell_type": "code",
   "execution_count": 73,
   "metadata": {},
   "outputs": [
    {
     "data": {
      "image/png": "[encoded data removed]",
      "text/plain": [
       "<Figure size 1440x1440 with 4 Axes>"
      ]
     },
     "metadata": {},
     "output_type": "display_data"
    }
   ],
   "source": [
    "traindf['for ngrams']=traindf['ingredients_clean_string'].str.replace(',',' ')\n",
    "f,ax=plt.subplots(2,2,figsize=(20,20))\n",
    "def ingre_cusine(cuisine):\n",
    "    frame=traindf[traindf['cuisine']==cuisine]\n",
    "    common=list(nltk.bigrams(nltk.word_tokenize(\" \".join(frame['for ngrams']))))\n",
    "    return pd.DataFrame(Counter(common),index=['count']).T.sort_values('count',ascending=False)[:15]\n",
    "ingre_cusine('mexican').plot.barh(ax=ax[0,0],width=0.9,color='#45ff45')\n",
    "ax[0,0].set_title('Mexican Cuisine')\n",
    "ingre_cusine('indian').plot.barh(ax=ax[0,1],width=0.9,color='#df6dfd')\n",
    "ax[0,1].set_title('Indian Cuisine')\n",
    "ingre_cusine('italian').plot.barh(ax=ax[1,0],width=0.9,color='#fbca5f')\n",
    "ax[1,0].set_title('Italian Cuisine')\n",
    "ingre_cusine('chinese').plot.barh(ax=ax[1,1],width=0.9,color='#ffff00')\n",
    "ax[1,1].set_title('Chinese Cuisine')\n",
    "plt.subplots_adjust(wspace=0.5)"
   ]
  },
  {
   "cell_type": "markdown",
   "metadata": {},
   "source": [
    "### Let's see more in depth what are ingredients"
   ]
  },
  {
   "cell_type": "code",
   "execution_count": 4,
   "metadata": {},
   "outputs": [
    {
     "data": {
      "text/html": [
       "<div>\n",
       "<style scoped>\n",
       "    .dataframe tbody tr th:only-of-type {\n",
       "        vertical-align: middle;\n",
       "    }\n",
       "\n",
       "    .dataframe tbody tr th {\n",
       "        vertical-align: top;\n",
       "    }\n",
       "\n",
       "    .dataframe thead th {\n",
       "        text-align: right;\n",
       "    }\n",
       "</style>\n",
       "<table border=\"1\" class=\"dataframe\">\n",
       "  <thead>\n",
       "    <tr style=\"text-align: right;\">\n",
       "      <th></th>\n",
       "      <th>cuisine</th>\n",
       "      <th>id</th>\n",
       "      <th>ingredients</th>\n",
       "      <th>ingredients_text</th>\n",
       "      <th>num_ingredients</th>\n",
       "    </tr>\n",
       "  </thead>\n",
       "  <tbody>\n",
       "    <tr>\n",
       "      <th>0</th>\n",
       "      <td>greek</td>\n",
       "      <td>10259</td>\n",
       "      <td>[romaine lettuce, black olives, grape tomatoes...</td>\n",
       "      <td>romaine lettuce, black olives, grape tomatoes,...</td>\n",
       "      <td>9</td>\n",
       "    </tr>\n",
       "    <tr>\n",
       "      <th>1</th>\n",
       "      <td>southern_us</td>\n",
       "      <td>25693</td>\n",
       "      <td>[plain flour, ground pepper, salt, tomatoes, g...</td>\n",
       "      <td>plain flour, ground pepper, salt, tomatoes, gr...</td>\n",
       "      <td>11</td>\n",
       "    </tr>\n",
       "    <tr>\n",
       "      <th>2</th>\n",
       "      <td>filipino</td>\n",
       "      <td>20130</td>\n",
       "      <td>[eggs, pepper, salt, mayonaise, cooking oil, g...</td>\n",
       "      <td>eggs, pepper, salt, mayonaise, cooking oil, gr...</td>\n",
       "      <td>12</td>\n",
       "    </tr>\n",
       "    <tr>\n",
       "      <th>3</th>\n",
       "      <td>indian</td>\n",
       "      <td>22213</td>\n",
       "      <td>[water, vegetable oil, wheat, salt]</td>\n",
       "      <td>water, vegetable oil, wheat, salt</td>\n",
       "      <td>4</td>\n",
       "    </tr>\n",
       "    <tr>\n",
       "      <th>4</th>\n",
       "      <td>indian</td>\n",
       "      <td>13162</td>\n",
       "      <td>[black pepper, shallots, cornflour, cayenne pe...</td>\n",
       "      <td>black pepper, shallots, cornflour, cayenne pep...</td>\n",
       "      <td>20</td>\n",
       "    </tr>\n",
       "  </tbody>\n",
       "</table>\n",
       "</div>"
      ],
      "text/plain": [
       "       cuisine     id                                        ingredients  \\\n",
       "0        greek  10259  [romaine lettuce, black olives, grape tomatoes...   \n",
       "1  southern_us  25693  [plain flour, ground pepper, salt, tomatoes, g...   \n",
       "2     filipino  20130  [eggs, pepper, salt, mayonaise, cooking oil, g...   \n",
       "3       indian  22213                [water, vegetable oil, wheat, salt]   \n",
       "4       indian  13162  [black pepper, shallots, cornflour, cayenne pe...   \n",
       "\n",
       "                                    ingredients_text  num_ingredients  \n",
       "0  romaine lettuce, black olives, grape tomatoes,...                9  \n",
       "1  plain flour, ground pepper, salt, tomatoes, gr...               11  \n",
       "2  eggs, pepper, salt, mayonaise, cooking oil, gr...               12  \n",
       "3                  water, vegetable oil, wheat, salt                4  \n",
       "4  black pepper, shallots, cornflour, cayenne pep...               20  "
      ]
     },
     "execution_count": 4,
     "metadata": {},
     "output_type": "execute_result"
    }
   ],
   "source": [
    "df = pd.concat([traindf, testdf], sort=False)\n",
    "df['ingredients_text'] = df['ingredients'].apply(lambda x: ', '.join(x))\n",
    "df['num_ingredients'] = df['ingredients'].apply(lambda x: len(x))\n",
    "raw_ingredients = [ingredient for ingredients in df.ingredients.values for ingredient in ingredients]\n",
    "df.head()"
   ]
  },
  {
   "cell_type": "markdown",
   "metadata": {},
   "source": [
    "**i) Let's start by checking if all ingredients are valid**\n",
    "\n",
    "For example, do ingredients consisting of less than 2 characters make sense?"
   ]
  },
  {
   "cell_type": "code",
   "execution_count": 17,
   "metadata": {},
   "outputs": [
    {
     "data": {
      "text/plain": [
       "['mi', 'mi', 'v8', 'v8', 'mi', 'la', 'mi', 'mi']"
      ]
     },
     "execution_count": 17,
     "metadata": {},
     "output_type": "execute_result"
    }
   ],
   "source": [
    "[ingredient for ingredient in raw_ingredients if len(ingredient) <= 2]"
   ]
  },
  {
   "cell_type": "markdown",
   "metadata": {},
   "source": [
    "No that doesn't make any sense, in your preprocessing phase, we're going to get rid of them"
   ]
  },
  {
   "cell_type": "markdown",
   "metadata": {},
   "source": [
    "**ii) Special characters**\n",
    "\n",
    "See what special characters are contained.\n",
    "\n",
    "  - \"Bertolli**®** Alfredo Sauce\"\n",
    "  - \"Progresso**™** Chicken Broth\"\n",
    "  - \"green bell pepper**,** slice\"\n",
    "  - \"half **&** half\"\n",
    "  - \"asafetida **\\(**powder**\\)**\"\n",
    "  - \"Spring**!** Water\""
   ]
  },
  {
   "cell_type": "code",
   "execution_count": 18,
   "metadata": {},
   "outputs": [
    {
     "data": {
      "text/plain": [
       "\"  ! % & ' ( ) , - . / 0 1 2 3 4 5 6 7 8 9 ¢ § ¨ © ¬ \\xad ® º Â Ã â ‚ „ € ™\""
      ]
     },
     "execution_count": 18,
     "metadata": {},
     "output_type": "execute_result"
    }
   ],
   "source": [
    "' '.join(sorted([char for char in set(' '.join(raw_ingredients)) if re.findall('[^A-Za-z]', char)]))"
   ]
  },
  {
   "cell_type": "markdown",
   "metadata": {},
   "source": [
    "We will also get rid of them in our preprocessing phase"
   ]
  },
  {
   "cell_type": "markdown",
   "metadata": {},
   "source": [
    "**iii) Upper cases**\n",
    "\n",
    "It may be a proper noun.\n",
    "\n",
    "- Company name\n",
    "  - \"**Oscar Mayer** Deli Fresh Smoked Ham\"\n",
    "- Region name\n",
    "  - \"**Shaoxing** wine\"\n",
    "  - \"**California** bay leaves\"\n",
    "  - \"**Italian** parsley leaves\""
   ]
  },
  {
   "cell_type": "code",
   "execution_count": 19,
   "metadata": {},
   "outputs": [
    {
     "data": {
      "text/plain": [
       "['Morton Salt',\n",
       " 'Ritz Crackers',\n",
       " 'Amarena cherries',\n",
       " 'Madras curry powder',\n",
       " 'Kraft Mayonnaise']"
      ]
     },
     "execution_count": 19,
     "metadata": {},
     "output_type": "execute_result"
    }
   ],
   "source": [
    "list(set([ingredient for ingredient in raw_ingredients if re.findall('[A-Z]+', ingredient)]))[:5]"
   ]
  },
  {
   "cell_type": "markdown",
   "metadata": {},
   "source": [
    "There are just 5 cases but we will need to use lower()"
   ]
  },
  {
   "cell_type": "markdown",
   "metadata": {},
   "source": [
    "**iv) Apostrophes**"
   ]
  },
  {
   "cell_type": "code",
   "execution_count": 5,
   "metadata": {},
   "outputs": [
    {
     "data": {
      "text/plain": [
       "[]"
      ]
     },
     "execution_count": 5,
     "metadata": {},
     "output_type": "execute_result"
    }
   ],
   "source": [
    "list(set([ingredient for ingredient in raw_ingredients if '’' in ingredient]))"
   ]
  },
  {
   "cell_type": "markdown",
   "metadata": {},
   "source": [
    "It seems that there is no apostrophes in our ingredients"
   ]
  },
  {
   "cell_type": "markdown",
   "metadata": {},
   "source": [
    "**v) Hyphens (-)**"
   ]
  },
  {
   "cell_type": "code",
   "execution_count": 29,
   "metadata": {},
   "outputs": [
    {
     "data": {
      "text/plain": [
       "['fat-free parmesan cheese',\n",
       " 'coarse-grain salt',\n",
       " 'Wish-Bone Italian Dressing',\n",
       " 'high-fructose corn syrup',\n",
       " 'full-fat plain yogurt']"
      ]
     },
     "execution_count": 29,
     "metadata": {},
     "output_type": "execute_result"
    }
   ],
   "source": [
    "list(set([ingredient for ingredient in raw_ingredients if re.findall('-', ingredient)]))[:5]"
   ]
  },
  {
   "cell_type": "markdown",
   "metadata": {},
   "source": [
    "It might be okay to replace \"-\" with \" \"."
   ]
  },
  {
   "cell_type": "markdown",
   "metadata": {},
   "source": [
    "**vi) Numbers**\n",
    "\n",
    "Numbers show quantity or density.\n",
    "\n",
    "- \"1% low-fat milk\"\n",
    "- \"40% less sodium taco seasoning\"\n",
    "- \"mexican style 4 cheese blend\"\n",
    "\n",
    "Strictly speaking, quantities can be a factor of identifying the cuisine but only a few ingredients come with quantity in this dataset."
   ]
  },
  {
   "cell_type": "code",
   "execution_count": 30,
   "metadata": {},
   "outputs": [
    {
     "data": {
      "text/plain": [
       "['40% less sodium taco seasoning mix',\n",
       " 'YoplaitÂ® Greek 2% Key lime pie yogurt',\n",
       " 'licor 43',\n",
       " '(14.5 oz.) diced tomatoes',\n",
       " '(15 oz.) refried beans']"
      ]
     },
     "execution_count": 30,
     "metadata": {},
     "output_type": "execute_result"
    }
   ],
   "source": [
    "list(set([ingredient for ingredient in raw_ingredients if re.findall('[0-9]', ingredient)]))[:5]"
   ]
  },
  {
   "cell_type": "markdown",
   "metadata": {},
   "source": [
    "Same here, we going to get rid of them later"
   ]
  },
  {
   "cell_type": "markdown",
   "metadata": {},
   "source": [
    "**vii) Accents **"
   ]
  },
  {
   "cell_type": "code",
   "execution_count": 6,
   "metadata": {},
   "outputs": [
    {
     "data": {
      "application/vnd.jupyter.widget-view+json": {
       "model_id": "48473beb0cae49568bcf42f1f9ff011f",
       "version_major": 2,
       "version_minor": 0
      },
      "text/html": [
       "<p>Failed to display Jupyter Widget of type <code>interactive</code>.</p>\n",
       "<p>\n",
       "  If you're reading this message in the Jupyter Notebook or JupyterLab Notebook, it may mean\n",
       "  that the widgets JavaScript is still loading. If this message persists, it\n",
       "  likely means that the widgets JavaScript library is either not installed or\n",
       "  not enabled. See the <a href=\"https://ipywidgets.readthedocs.io/en/stable/user_install.html\">Jupyter\n",
       "  Widgets Documentation</a> for setup instructions.\n",
       "</p>\n",
       "<p>\n",
       "  If you're reading this message in another frontend (for example, a static\n",
       "  rendering on GitHub or <a href=\"https://nbviewer.jupyter.org/\">NBViewer</a>),\n",
       "  it may mean that your frontend doesn't currently support widgets.\n",
       "</p>\n"
      ],
      "text/plain": [
       "interactive(children=(Dropdown(description='accent', options=('â', 'ç', 'è', 'é', 'í', 'î', 'ú'), value='â'), Output()), _dom_classes=('widget-interact',))"
      ]
     },
     "metadata": {},
     "output_type": "display_data"
    }
   ],
   "source": [
    "from ipywidgets import interact\n",
    "\n",
    "accents = ['â', 'ç', 'è', 'é', 'í', 'î', 'ú']\n",
    "\n",
    "@interact(accent=accents)\n",
    "def f(accent):\n",
    "    ingredients_df = pd.DataFrame([ingredient for ingredient in raw_ingredients if accent in ingredient], columns=['ingredient'])\n",
    "    return ingredients_df.groupby(['ingredient']).size().reset_index(name='count').sort_values(['count'], ascending=False)"
   ]
  },
  {
   "cell_type": "markdown",
   "metadata": {},
   "source": [
    "Some accents are used only in a specific region. Can we use this information?"
   ]
  },
  {
   "cell_type": "markdown",
   "metadata": {},
   "source": [
    "## II) What's cooking - Text Processing and Feature Engineering"
   ]
  },
  {
   "cell_type": "markdown",
   "metadata": {},
   "source": [
    "### Preparation of ingredient list for tf idf"
   ]
  },
  {
   "cell_type": "markdown",
   "metadata": {},
   "source": [
    "**TF** = Term Frequency, $tf_{td}=\\frac{f_{td}}{\\sum_{t'\\in d}f_{td}}$, i.e. number of times term $t$ occurs in document $d$ ($f_{td}$) weighted by the number of words in document $d$. There are also other possible weights.\n",
    "\n",
    "**IDF** = Inverse Document Frequency. IDF measures how much information a word provides (rare vs. common words). Given the number of documents $N$ and the number of documents $d$ that contain term $t$ ($\\mathcal{D}_t$), it is defined as $idf_t=log(\\frac{N}{|\\mathcal{D}_t|})$.\n",
    "\n",
    "**TF-IDF** = Term Frequency - Inverse Document Frequency, $tfidf_{td} = tf_{td}*idf_t$"
   ]
  },
  {
   "cell_type": "markdown",
   "metadata": {},
   "source": [
    "*We will proceed the analysis by performing some simple data processing. The goal is to prepare the data for model development.*"
   ]
  },
  {
   "cell_type": "code",
   "execution_count": 9,
   "metadata": {},
   "outputs": [],
   "source": [
    "from tqdm import tqdm\n",
    "tqdm.pandas()\n",
    "from sklearn.pipeline import make_pipeline, make_union\n",
    "from sklearn.preprocessing import FunctionTransformer, LabelEncoder"
   ]
  },
  {
   "cell_type": "code",
   "execution_count": 10,
   "metadata": {},
   "outputs": [],
   "source": [
    "traindf['num_ingredients'] = traindf['ingredients'].apply(lambda x: len(x))\n",
    "testdf['num_ingredients'] = testdf['ingredients'].apply(lambda x: len(x))\n",
    "#train['num_ingredients_2'] = train['ingredients'].apply(lambda x: len(x)*len(x))\n",
    "#train['num_ingredients_log'] = train['ingredients'].apply(lambda x: log(len(x))\n",
    "traindf = traindf[traindf['num_ingredients'] > 2]"
   ]
  },
  {
   "cell_type": "code",
   "execution_count": 11,
   "metadata": {},
   "outputs": [],
   "source": [
    "lemmatizer = WordNetLemmatizer()\n",
    "def preprocess(ingredients):\n",
    "    ingredients_text = ' '.join(ingredients)\n",
    "    ingredients_text = ingredients_text.lower() #remove upper case\n",
    "    ingredients_text = ingredients_text.replace('-', '') #remove hyphens\n",
    "    ingredients_text = ingredients_text.replace('wasabe', 'wasabi') #misspelings in the data\n",
    "    ingredients_text = ingredients_text.replace('fish sauce', 'fishsauce')\n",
    "    ingredients_text = ingredients_text.replace('coconut cream', 'coconutcream')\n",
    "    ingredients_text = ingredients_text.replace('yellow onion', 'yellowonion')\n",
    "    ingredients_text = ingredients_text.replace('cream cheese', 'creamcheese') \n",
    "    ingredients_text = ingredients_text.replace('baby spinach', 'babyspinach')\n",
    "    ingredients_text = ingredients_text.replace('coriander seeds', 'corianderseeds')\n",
    "    ingredients_text = ingredients_text.replace('corn tortillas', 'corntortillas')\n",
    "    ingredients_text = ingredients_text.replace('rice cakes', 'ricecakes')\n",
    "    words = []\n",
    "    for word in ingredients_text.split():\n",
    "        if re.findall('[0-9]', word): continue  #get rid of the numbers\n",
    "        if len(word) <= 2: continue  #get rid of the ingredients with 2 characters or less\n",
    "        if '’' in word: continue  #remove aposthrophe\n",
    "        if re.findall('[^A-Za-z]', word): continue  #get rid of the special characters\n",
    "            \n",
    "        word = lemmatizer.lemmatize(word)  #Lemmatize is important because it seems than that dataset might \n",
    "                                           #have different representation of same words, like the olives and olive,\n",
    "                                           #tomatoes and tomato, which represent the same word\n",
    "        if len(word) > 0: words.append(word)\n",
    "    return ' '.join(words)\n"
   ]
  },
  {
   "cell_type": "code",
   "execution_count": 12,
   "metadata": {},
   "outputs": [
    {
     "name": "stderr",
     "output_type": "stream",
     "text": [
      "100%|██████████████████████████████████████████████████████████████████████████| 39559/39559 [00:06<00:00, 5968.75it/s]\n",
      "100%|████████████████████████████████████████████████████████████████████████████| 9944/9944 [00:01<00:00, 8205.98it/s]\n"
     ]
    },
    {
     "data": {
      "text/html": [
       "<div>\n",
       "<style scoped>\n",
       "    .dataframe tbody tr th:only-of-type {\n",
       "        vertical-align: middle;\n",
       "    }\n",
       "\n",
       "    .dataframe tbody tr th {\n",
       "        vertical-align: top;\n",
       "    }\n",
       "\n",
       "    .dataframe thead th {\n",
       "        text-align: right;\n",
       "    }\n",
       "</style>\n",
       "<table border=\"1\" class=\"dataframe\">\n",
       "  <thead>\n",
       "    <tr style=\"text-align: right;\">\n",
       "      <th></th>\n",
       "      <th>cuisine</th>\n",
       "      <th>id</th>\n",
       "      <th>ingredients</th>\n",
       "      <th>num_ingredients</th>\n",
       "      <th>x</th>\n",
       "    </tr>\n",
       "  </thead>\n",
       "  <tbody>\n",
       "    <tr>\n",
       "      <th>0</th>\n",
       "      <td>greek</td>\n",
       "      <td>10259</td>\n",
       "      <td>[romaine lettuce, black olives, grape tomatoes...</td>\n",
       "      <td>9</td>\n",
       "      <td>romaine lettuce black olive grape tomato garli...</td>\n",
       "    </tr>\n",
       "    <tr>\n",
       "      <th>1</th>\n",
       "      <td>southern_us</td>\n",
       "      <td>25693</td>\n",
       "      <td>[plain flour, ground pepper, salt, tomatoes, g...</td>\n",
       "      <td>11</td>\n",
       "      <td>plain flour ground pepper salt tomato ground b...</td>\n",
       "    </tr>\n",
       "    <tr>\n",
       "      <th>2</th>\n",
       "      <td>filipino</td>\n",
       "      <td>20130</td>\n",
       "      <td>[eggs, pepper, salt, mayonaise, cooking oil, g...</td>\n",
       "      <td>12</td>\n",
       "      <td>egg pepper salt mayonaise cooking oil green ch...</td>\n",
       "    </tr>\n",
       "    <tr>\n",
       "      <th>3</th>\n",
       "      <td>indian</td>\n",
       "      <td>22213</td>\n",
       "      <td>[water, vegetable oil, wheat, salt]</td>\n",
       "      <td>4</td>\n",
       "      <td>water vegetable oil wheat salt</td>\n",
       "    </tr>\n",
       "    <tr>\n",
       "      <th>4</th>\n",
       "      <td>indian</td>\n",
       "      <td>13162</td>\n",
       "      <td>[black pepper, shallots, cornflour, cayenne pe...</td>\n",
       "      <td>20</td>\n",
       "      <td>black pepper shallot cornflour cayenne pepper ...</td>\n",
       "    </tr>\n",
       "  </tbody>\n",
       "</table>\n",
       "</div>"
      ],
      "text/plain": [
       "       cuisine     id                                        ingredients  \\\n",
       "0        greek  10259  [romaine lettuce, black olives, grape tomatoes...   \n",
       "1  southern_us  25693  [plain flour, ground pepper, salt, tomatoes, g...   \n",
       "2     filipino  20130  [eggs, pepper, salt, mayonaise, cooking oil, g...   \n",
       "3       indian  22213                [water, vegetable oil, wheat, salt]   \n",
       "4       indian  13162  [black pepper, shallots, cornflour, cayenne pe...   \n",
       "\n",
       "   num_ingredients                                                  x  \n",
       "0                9  romaine lettuce black olive grape tomato garli...  \n",
       "1               11  plain flour ground pepper salt tomato ground b...  \n",
       "2               12  egg pepper salt mayonaise cooking oil green ch...  \n",
       "3                4                     water vegetable oil wheat salt  \n",
       "4               20  black pepper shallot cornflour cayenne pepper ...  "
      ]
     },
     "execution_count": 12,
     "metadata": {},
     "output_type": "execute_result"
    }
   ],
   "source": [
    "traindf['x'] = traindf['ingredients'].progress_apply(lambda ingredients: preprocess(ingredients))\n",
    "testdf['x'] = testdf['ingredients'].progress_apply(lambda ingredients: preprocess(ingredients))\n",
    "traindf.head()"
   ]
  },
  {
   "cell_type": "markdown",
   "metadata": {},
   "source": [
    "We saw in the previous part than the data needed some simple but important transformation like :\n",
    "\n",
    "- Case normalization - Convert everything to lower.\n",
    "\n",
    "- Removal of punctuation, digits or special characters - they are not considered as informative and correlated with the problem;\n",
    "\n",
    "- Removal of different number - they can also be considered as not so related to the problem at hand and therefore can be excluded from further analysis. <br>\n",
    "\n",
    "Performing this simple manipulation on data can give us confidence that a significant amount of 'noise' in our data is removed which is likely to lead to better results during the data modeling stage."
   ]
  },
  {
   "cell_type": "code",
   "execution_count": 27,
   "metadata": {},
   "outputs": [],
   "source": [
    "vectorizer = make_pipeline(\n",
    "    TfidfVectorizer(sublinear_tf=True),\n",
    "    FunctionTransformer(lambda x: x.astype('float'), validate=False)\n",
    ")\n",
    "\n",
    "predictors_tr = vectorizer.fit_transform(traindf['x'].values)\n",
    "predictors_tr.sort_indices()\n",
    "predictors_ts = vectorizer.transform(testdf['x'].values)"
   ]
  },
  {
   "cell_type": "markdown",
   "metadata": {},
   "source": [
    "**During the feature engineering process we transform the textual data into more suitable format for performing mathematical operations and statistical learning techniques. In other words - we turn text into numbers. TfidfVectorizer have a matrix of number in output**\n",
    "\n",
    "For now we choose to use only unigrams for building the prediction model. This means that in model development will be included features consisting of single words only. This can be considered as a good baseline and starting point for further analysis. <br> "
   ]
  },
  {
   "cell_type": "code",
   "execution_count": 22,
   "metadata": {},
   "outputs": [
    {
     "data": {
      "text/plain": [
       "{'brazilian': 0,\n",
       " 'british': 1,\n",
       " 'cajun_creole': 2,\n",
       " 'chinese': 3,\n",
       " 'filipino': 4,\n",
       " 'french': 5,\n",
       " 'greek': 6,\n",
       " 'indian': 7,\n",
       " 'irish': 8,\n",
       " 'italian': 9,\n",
       " 'jamaican': 10,\n",
       " 'japanese': 11,\n",
       " 'korean': 12,\n",
       " 'mexican': 13,\n",
       " 'moroccan': 14,\n",
       " 'russian': 15,\n",
       " 'southern_us': 16,\n",
       " 'spanish': 17,\n",
       " 'thai': 18,\n",
       " 'vietnamese': 19}"
      ]
     },
     "execution_count": 22,
     "metadata": {},
     "output_type": "execute_result"
    }
   ],
   "source": [
    "label_encoder = LabelEncoder()\n",
    "targets_tr = label_encoder.fit_transform(traindf['cuisine'].values)\n",
    "dict(zip(label_encoder.classes_, label_encoder.transform(label_encoder.classes_)))"
   ]
  },
  {
   "cell_type": "code",
   "execution_count": 32,
   "metadata": {},
   "outputs": [],
   "source": [
    "#autre méthode\n",
    "\n",
    "'''\n",
    "traindf['ingredients_clean_string'] = [' , '.join(z).strip() for z in traindf['ingredients']] \n",
    "testdf['ingredients_clean_string'] = [' , '.join(z).strip() for z in testdf['ingredients']]\n",
    "\n",
    "from nltk import word_tokenize          \n",
    "from nltk.stem import WordNetLemmatizer \n",
    "class LemmaTokenizer(object):\n",
    "    def __init__(self):\n",
    "        self.wnl = WordNetLemmatizer()\n",
    "    def __call__(self, doc):\n",
    "        return [self.wnl.lemmatize(t) for t in word_tokenize(doc)]\n",
    "\n",
    "corpustr = traindf['ingredients_clean_string']\n",
    "\n",
    "vectorizertr = TfidfVectorizer(stop_words='english',\n",
    "                               ngram_range = ( 1 , 1 ), # unigrams\n",
    "                               analyzer=\"word\",\n",
    "                               tokenizer = LemmaTokenizer(),\n",
    "                               token_pattern=r'\\w+' ,\n",
    "                               max_df = .57 , # any word appearing in more than 57% of the sample will be discarded\n",
    "                               binary=False ,\n",
    "                               sublinear_tf=False)\n",
    "\n",
    "tfidftr=vectorizertr.fit_transform(corpustr).todense()\n",
    "tfidfts=vectorizertr.transform(corpusts)\n",
    "\n",
    "\n",
    "\n",
    "predictors_tr = tfidftr\n",
    "\n",
    "targets_tr = traindf['cuisine']\n",
    "\n",
    "predictors_ts = tfidfts\n",
    "\n",
    "'''"
   ]
  },
  {
   "cell_type": "markdown",
   "metadata": {},
   "source": [
    "## III) What's cooking - Modelisation"
   ]
  },
  {
   "cell_type": "markdown",
   "metadata": {},
   "source": [
    "### Baseline Model with GridSearchCV for hyperparameter tuning"
   ]
  },
  {
   "cell_type": "markdown",
   "metadata": {},
   "source": [
    "We built a function to make a GridSearchCV on a classifier and obtain some useful informations"
   ]
  },
  {
   "cell_type": "code",
   "execution_count": 19,
   "metadata": {},
   "outputs": [],
   "source": [
    "def algo(algorithm,x_train,y_train,parameters) :\n",
    "    \n",
    "    classifier = GridSearchCV(algorithm, parameters, scoring = 'accuracy')\n",
    "    classifier=classifier.fit(x_train,y_train)\n",
    "    print(algorithm)\n",
    "    print(\"\\n Résultats de GridSearchCV : \\n\",pd.DataFrame(classifier.cv_results_))\n",
    "    print(\"\\n Best estimator : \\n\", classifier.best_estimator_)\n",
    "    print(\"\\n Best Parameter : \\n\", classifier.best_params_)\n",
    "    print(\"\\n Best Score (mean) : \\n\", classifier.best_score_)\n",
    "    print(\"\\n Best std (mean) : \\n\", classifier.cv_results_['std_test_score'][classifier.best_index_])"
   ]
  },
  {
   "cell_type": "markdown",
   "metadata": {},
   "source": [
    "### Logistic regression"
   ]
  },
  {
   "cell_type": "markdown",
   "metadata": {},
   "source": [
    "#### Hyperparameter tuning"
   ]
  },
  {
   "cell_type": "code",
   "execution_count": 20,
   "metadata": {},
   "outputs": [
    {
     "name": "stdout",
     "output_type": "stream",
     "text": [
      "LogisticRegression(C=1.0, class_weight=None, dual=False, fit_intercept=True,\n",
      "          intercept_scaling=1, max_iter=100, multi_class='warn',\n",
      "          n_jobs=None, penalty='l2', random_state=None, solver='warn',\n",
      "          tol=0.0001, verbose=0, warm_start=False)\n",
      "\n",
      " Résultats de GridSearchCV : \n",
      "    mean_fit_time  std_fit_time  mean_score_time  std_score_time param_C  \\\n",
      "0       1.840468      0.392609         0.022264        0.003983     0.1   \n",
      "1       2.994248      0.253113         0.019974        0.000836     0.1   \n",
      "2       3.603044      0.456136         0.021598        0.003085       1   \n",
      "3       4.443736      0.264991         0.022601        0.003313       1   \n",
      "4      11.504217      0.976139         0.021624        0.000481      10   \n",
      "5       7.709876      0.324036         0.019261        0.000449      10   \n",
      "6      33.012883      2.554083         0.022285        0.004012     100   \n",
      "7      13.005517      0.650038         0.018617        0.000471     100   \n",
      "8      76.965717      5.211241         0.020603        0.001683    1000   \n",
      "9      27.825906      1.878145         0.021936        0.002149    1000   \n",
      "\n",
      "  param_penalty                        params  split0_test_score  \\\n",
      "0            l1   {'C': 0.1, 'penalty': 'l1'}           0.658222   \n",
      "1            l2   {'C': 0.1, 'penalty': 'l2'}           0.663500   \n",
      "2            l1     {'C': 1, 'penalty': 'l1'}           0.772073   \n",
      "3            l2     {'C': 1, 'penalty': 'l2'}           0.769283   \n",
      "4            l1    {'C': 10, 'penalty': 'l1'}           0.771696   \n",
      "5            l2    {'C': 10, 'penalty': 'l2'}           0.785267   \n",
      "6            l1   {'C': 100, 'penalty': 'l1'}           0.731358   \n",
      "7            l2   {'C': 100, 'penalty': 'l2'}           0.767096   \n",
      "8            l1  {'C': 1000, 'penalty': 'l1'}           0.697504   \n",
      "9            l2  {'C': 1000, 'penalty': 'l2'}           0.737390   \n",
      "\n",
      "   split1_test_score  split2_test_score  mean_test_score  std_test_score  \\\n",
      "0           0.652840           0.658165         0.656409        0.002524   \n",
      "1           0.660910           0.661032         0.661814        0.001193   \n",
      "2           0.774342           0.772638         0.773018        0.000965   \n",
      "3           0.765141           0.767507         0.767310        0.001697   \n",
      "4           0.765744           0.774600         0.770679        0.003686   \n",
      "5           0.783996           0.785014         0.784759        0.000549   \n",
      "6           0.726978           0.736266         0.731533        0.003794   \n",
      "7           0.761143           0.769167         0.765802        0.003401   \n",
      "8           0.693190           0.700498         0.697063        0.003000   \n",
      "9           0.733389           0.742529         0.737768        0.003741   \n",
      "\n",
      "   rank_test_score  split0_train_score  split1_train_score  \\\n",
      "0               10            0.661009            0.663587   \n",
      "1                9            0.669948            0.673468   \n",
      "2                2            0.809588            0.805582   \n",
      "3                4            0.807061            0.806374   \n",
      "4                3            0.904606            0.905902   \n",
      "5                1            0.878805            0.879578   \n",
      "6                7            0.930104            0.931963   \n",
      "7                5            0.913772            0.916576   \n",
      "8                8            0.936819            0.938525   \n",
      "9                6            0.928332            0.930568   \n",
      "\n",
      "   split2_train_score  mean_train_score  std_train_score  \n",
      "0            0.662130          0.662242         0.001055  \n",
      "1            0.674836          0.672751         0.002059  \n",
      "2            0.805407          0.806859         0.001931  \n",
      "3            0.805784          0.806406         0.000522  \n",
      "4            0.903552          0.904687         0.000961  \n",
      "5            0.878516          0.878966         0.000448  \n",
      "6            0.931038          0.931035         0.000759  \n",
      "7            0.914825          0.915058         0.001156  \n",
      "8            0.938542          0.937962         0.000808  \n",
      "9            0.929078          0.929326         0.000930  \n",
      "\n",
      " Best estimator : \n",
      " LogisticRegression(C=10, class_weight=None, dual=False, fit_intercept=True,\n",
      "          intercept_scaling=1, max_iter=100, multi_class='warn',\n",
      "          n_jobs=None, penalty='l2', random_state=None, solver='warn',\n",
      "          tol=0.0001, verbose=0, warm_start=False)\n",
      "\n",
      " Best Parameter : \n",
      " {'C': 10, 'penalty': 'l2'}\n",
      "\n",
      " Best Score (mean) : \n",
      " 0.7847588877155931\n",
      "\n",
      " Best std (mean) : \n",
      " 0.0005494810219144256\n"
     ]
    }
   ],
   "source": [
    "parameters = {'C':[0.1, 1, 10,100, 1000], 'penalty' :('l1', 'l2')}\n",
    "Logit = LogisticRegression() \n",
    "\n",
    "algo(Logit,predictors_tr,targets_tr,parameters)"
   ]
  },
  {
   "cell_type": "markdown",
   "metadata": {},
   "source": [
    "*Les paramètres qui donnent la meilleur accuracy (0.7847) sont {'C': 10, 'penalty': 'l2',}, c'est ceux que l'on va utiliser pour la cross validation*"
   ]
  },
  {
   "cell_type": "markdown",
   "metadata": {},
   "source": [
    "#### Cross Validation"
   ]
  },
  {
   "cell_type": "code",
   "execution_count": 209,
   "metadata": {},
   "outputs": [],
   "source": [
    "Logit = LogisticRegression(C = 10, penalty = 'l2', solver = 'liblinear')\n",
    "\n",
    "KFold = StratifiedKFold(n_splits=5, random_state=42)\n",
    "scoresLG = cross_validate(Logit, predictors_tr,targets_tr, scoring=\"accuracy\", cv=kfold)"
   ]
  },
  {
   "cell_type": "code",
   "execution_count": 210,
   "metadata": {},
   "outputs": [
    {
     "data": {
      "text/html": [
       "<div>\n",
       "<style scoped>\n",
       "    .dataframe tbody tr th:only-of-type {\n",
       "        vertical-align: middle;\n",
       "    }\n",
       "\n",
       "    .dataframe tbody tr th {\n",
       "        vertical-align: top;\n",
       "    }\n",
       "\n",
       "    .dataframe thead th {\n",
       "        text-align: right;\n",
       "    }\n",
       "</style>\n",
       "<table border=\"1\" class=\"dataframe\">\n",
       "  <thead>\n",
       "    <tr style=\"text-align: right;\">\n",
       "      <th></th>\n",
       "      <th>fit_time</th>\n",
       "      <th>score_time</th>\n",
       "      <th>test_score</th>\n",
       "      <th>train_score</th>\n",
       "    </tr>\n",
       "  </thead>\n",
       "  <tbody>\n",
       "    <tr>\n",
       "      <th>0</th>\n",
       "      <td>10.353295</td>\n",
       "      <td>0.063829</td>\n",
       "      <td>0.784915</td>\n",
       "      <td>0.860524</td>\n",
       "    </tr>\n",
       "    <tr>\n",
       "      <th>1</th>\n",
       "      <td>10.383216</td>\n",
       "      <td>0.052858</td>\n",
       "      <td>0.791703</td>\n",
       "      <td>0.858198</td>\n",
       "    </tr>\n",
       "    <tr>\n",
       "      <th>2</th>\n",
       "      <td>10.343323</td>\n",
       "      <td>0.053856</td>\n",
       "      <td>0.788938</td>\n",
       "      <td>0.857035</td>\n",
       "    </tr>\n",
       "    <tr>\n",
       "      <th>3</th>\n",
       "      <td>10.014204</td>\n",
       "      <td>0.053856</td>\n",
       "      <td>0.779761</td>\n",
       "      <td>0.860586</td>\n",
       "    </tr>\n",
       "    <tr>\n",
       "      <th>4</th>\n",
       "      <td>11.866248</td>\n",
       "      <td>0.082778</td>\n",
       "      <td>0.795575</td>\n",
       "      <td>0.857260</td>\n",
       "    </tr>\n",
       "  </tbody>\n",
       "</table>\n",
       "</div>"
      ],
      "text/plain": [
       "    fit_time  score_time  test_score  train_score\n",
       "0  10.353295    0.063829    0.784915     0.860524\n",
       "1  10.383216    0.052858    0.791703     0.858198\n",
       "2  10.343323    0.053856    0.788938     0.857035\n",
       "3  10.014204    0.053856    0.779761     0.860586\n",
       "4  11.866248    0.082778    0.795575     0.857260"
      ]
     },
     "execution_count": 210,
     "metadata": {},
     "output_type": "execute_result"
    }
   ],
   "source": [
    "pd.DataFrame(scoresLG)"
   ]
  },
  {
   "cell_type": "markdown",
   "metadata": {},
   "source": [
    "## Linear SVC"
   ]
  },
  {
   "cell_type": "markdown",
   "metadata": {},
   "source": [
    "#### Hyperparameter tuning"
   ]
  },
  {
   "cell_type": "code",
   "execution_count": 21,
   "metadata": {},
   "outputs": [
    {
     "name": "stderr",
     "output_type": "stream",
     "text": [
      "C:\\Users\\Evan\\Anaconda3\\lib\\site-packages\\sklearn\\svm\\base.py:931: ConvergenceWarning: Liblinear failed to converge, increase the number of iterations.\n",
      "  \"the number of iterations.\", ConvergenceWarning)\n",
      "C:\\Users\\Evan\\Anaconda3\\lib\\site-packages\\sklearn\\svm\\base.py:931: ConvergenceWarning: Liblinear failed to converge, increase the number of iterations.\n",
      "  \"the number of iterations.\", ConvergenceWarning)\n",
      "C:\\Users\\Evan\\Anaconda3\\lib\\site-packages\\sklearn\\svm\\base.py:931: ConvergenceWarning: Liblinear failed to converge, increase the number of iterations.\n",
      "  \"the number of iterations.\", ConvergenceWarning)\n",
      "C:\\Users\\Evan\\Anaconda3\\lib\\site-packages\\sklearn\\svm\\base.py:931: ConvergenceWarning: Liblinear failed to converge, increase the number of iterations.\n",
      "  \"the number of iterations.\", ConvergenceWarning)\n",
      "C:\\Users\\Evan\\Anaconda3\\lib\\site-packages\\sklearn\\svm\\base.py:931: ConvergenceWarning: Liblinear failed to converge, increase the number of iterations.\n",
      "  \"the number of iterations.\", ConvergenceWarning)\n"
     ]
    },
    {
     "name": "stdout",
     "output_type": "stream",
     "text": [
      "LinearSVC(C=1.0, class_weight=None, dual=False, fit_intercept=True,\n",
      "     intercept_scaling=1, loss='squared_hinge', max_iter=1000,\n",
      "     multi_class='ovr', penalty='l2', random_state=None, tol=0.0001,\n",
      "     verbose=0)\n",
      "\n",
      " Résultats de GridSearchCV : \n",
      "     mean_fit_time  std_fit_time  mean_score_time  std_score_time param_C  \\\n",
      "0        6.346447      0.749831         0.021607    3.092100e-03     0.1   \n",
      "1        2.224704      0.122983         0.019956    8.140041e-04     0.1   \n",
      "2        9.547785      0.364880         0.019309    4.706962e-04     0.2   \n",
      "3        2.162879      0.040170         0.018975    1.783559e-05     0.2   \n",
      "4       11.292135      0.671881         0.019622    9.525750e-04     0.3   \n",
      "5        2.226044      0.093242         0.019632    9.277364e-04     0.3   \n",
      "6       13.538790      0.467083         0.019291    4.829467e-04     0.4   \n",
      "7        2.320457      0.078210         0.020301    9.364452e-04     0.4   \n",
      "8       16.344578      1.216610         0.018949    3.371748e-07     0.5   \n",
      "9        2.386589      0.073940         0.020305    2.061880e-03     0.5   \n",
      "10      18.343885      0.303996         0.021604    2.354161e-03     0.6   \n",
      "11       2.412868      0.131512         0.020623    1.710308e-03     0.6   \n",
      "12      18.058000      0.709814         0.019282    4.715958e-04     0.7   \n",
      "13       2.372384      0.145721         0.018954    6.368747e-06     0.7   \n",
      "14      20.013124      0.689001         0.019638    9.482183e-04     0.8   \n",
      "15       2.247320      0.015501         0.019307    1.263195e-03     0.8   \n",
      "16      21.980864      0.530556         0.121896    1.455808e-01     0.9   \n",
      "17       2.485692      0.071636         0.019307    4.713538e-04     0.9   \n",
      "18      21.753143      0.667853         0.019960    8.180405e-04       1   \n",
      "19       2.320775      0.038937         0.019632    9.280174e-04       1   \n",
      "\n",
      "   param_penalty                       params  split0_test_score  \\\n",
      "0             l1  {'C': 0.1, 'penalty': 'l1'}           0.739124   \n",
      "1             l2  {'C': 0.1, 'penalty': 'l2'}           0.774410   \n",
      "2             l1  {'C': 0.2, 'penalty': 'l1'}           0.764231   \n",
      "3             l2  {'C': 0.2, 'penalty': 'l2'}           0.782402   \n",
      "4             l1  {'C': 0.3, 'penalty': 'l1'}           0.772525   \n",
      "5             l2  {'C': 0.3, 'penalty': 'l2'}           0.784740   \n",
      "6             l1  {'C': 0.4, 'penalty': 'l1'}           0.778105   \n",
      "7             l2  {'C': 0.4, 'penalty': 'l2'}           0.786247   \n",
      "8             l1  {'C': 0.5, 'penalty': 'l1'}           0.781120   \n",
      "9             l2  {'C': 0.5, 'penalty': 'l2'}           0.786624   \n",
      "10            l1  {'C': 0.6, 'penalty': 'l1'}           0.783835   \n",
      "11            l2  {'C': 0.6, 'penalty': 'l2'}           0.787228   \n",
      "12            l1  {'C': 0.7, 'penalty': 'l1'}           0.784061   \n",
      "13            l2  {'C': 0.7, 'penalty': 'l2'}           0.787303   \n",
      "14            l1  {'C': 0.8, 'penalty': 'l1'}           0.784589   \n",
      "15            l2  {'C': 0.8, 'penalty': 'l2'}           0.785946   \n",
      "16            l1  {'C': 0.9, 'penalty': 'l1'}           0.786021   \n",
      "17            l2  {'C': 0.9, 'penalty': 'l2'}           0.785644   \n",
      "18            l1    {'C': 1, 'penalty': 'l1'}           0.786021   \n",
      "19            l2    {'C': 1, 'penalty': 'l2'}           0.785493   \n",
      "\n",
      "    split1_test_score  split2_test_score  mean_test_score  std_test_score  \\\n",
      "0            0.732559           0.738228         0.736637        0.002907   \n",
      "1            0.772230           0.773166         0.773269        0.000893   \n",
      "2            0.761898           0.762074         0.762734        0.001061   \n",
      "3            0.779621           0.781391         0.781138        0.001149   \n",
      "4            0.771023           0.771582         0.771710        0.000620   \n",
      "5            0.783543           0.785995         0.784759        0.001001   \n",
      "6            0.774342           0.779430         0.777292        0.002155   \n",
      "7            0.785429           0.788334         0.786670        0.001223   \n",
      "8            0.776227           0.781920         0.779756        0.002516   \n",
      "9            0.784901           0.789617         0.787047        0.001948   \n",
      "10           0.778113           0.784410         0.782119        0.002843   \n",
      "11           0.784524           0.789768         0.787173        0.002141   \n",
      "12           0.779546           0.785165         0.782924        0.002431   \n",
      "13           0.784976           0.789164         0.787147        0.001713   \n",
      "14           0.780526           0.785995         0.783703        0.002318   \n",
      "15           0.783770           0.788485         0.786066        0.001927   \n",
      "16           0.779471           0.786070         0.783854        0.003100   \n",
      "17           0.782940           0.787730         0.785438        0.001961   \n",
      "18           0.779320           0.786598         0.783979        0.003304   \n",
      "19           0.781582           0.787353         0.784809        0.002405   \n",
      "\n",
      "    rank_test_score  split0_train_score  split1_train_score  \\\n",
      "0                20            0.748406            0.749764   \n",
      "1                17            0.814756            0.816255   \n",
      "2                19            0.785070            0.785367   \n",
      "3                14            0.837388            0.837450   \n",
      "4                18            0.803365            0.802678   \n",
      "5                 8            0.850213            0.849519   \n",
      "6                16            0.817208            0.815652   \n",
      "7                 4            0.858285            0.858382   \n",
      "8                15            0.827506            0.825344   \n",
      "9                 3            0.864320            0.863775   \n",
      "10               13            0.836822            0.833981   \n",
      "11                1            0.868998            0.869206   \n",
      "12               12            0.844555            0.842542   \n",
      "13                2            0.872468            0.872412   \n",
      "14               11            0.851571            0.849217   \n",
      "15                5            0.875787            0.876410   \n",
      "16               10            0.857719            0.856572   \n",
      "17                6            0.878051            0.879728   \n",
      "18                9            0.862623            0.862040   \n",
      "19                7            0.880352            0.881690   \n",
      "\n",
      "    split2_train_score  mean_train_score  std_train_score  \n",
      "0             0.749642          0.749271         0.000613  \n",
      "1             0.814984          0.815332         0.000659  \n",
      "2             0.784519          0.784985         0.000351  \n",
      "3             0.837833          0.837557         0.000197  \n",
      "4             0.802918          0.802987         0.000285  \n",
      "5             0.850238          0.849990         0.000333  \n",
      "6             0.814908          0.815923         0.000958  \n",
      "7             0.858155          0.858274         0.000093  \n",
      "8             0.826220          0.826356         0.000888  \n",
      "9             0.863924          0.864007         0.000230  \n",
      "10            0.835307          0.835370         0.001161  \n",
      "11            0.868109          0.868771         0.000476  \n",
      "12            0.842885          0.843327         0.000879  \n",
      "13            0.871541          0.872140         0.000425  \n",
      "14            0.849370          0.850053         0.001075  \n",
      "15            0.874482          0.875560         0.000803  \n",
      "16            0.855592          0.856628         0.000870  \n",
      "17            0.876782          0.878187         0.001207  \n",
      "18            0.860644          0.861769         0.000830  \n",
      "19            0.879572          0.880538         0.000875  \n",
      "\n",
      " Best estimator : \n",
      " LinearSVC(C=0.6, class_weight=None, dual=False, fit_intercept=True,\n",
      "     intercept_scaling=1, loss='squared_hinge', max_iter=1000,\n",
      "     multi_class='ovr', penalty='l2', random_state=None, tol=0.0001,\n",
      "     verbose=0)\n",
      "\n",
      " Best Parameter : \n",
      " {'C': 0.6, 'penalty': 'l2'}\n",
      "\n",
      " Best Score (mean) : \n",
      " 0.7871725247649218\n",
      "\n",
      " Best std (mean) : \n",
      " 0.0021409507414263734\n"
     ]
    }
   ],
   "source": [
    "parameters = {'C' : [0.1,0.2,0.3,0.4,0.5,0.6,0.7,0.8,0.9,1], 'penalty' :('l1', 'l2')}\n",
    "\n",
    "classifier = LinearSVC(dual=False)\n",
    "\n",
    "algo(classifier,predictors_tr,targets_tr,parameters)\n"
   ]
  },
  {
   "cell_type": "markdown",
   "metadata": {},
   "source": [
    "*Les paramètres qui donnent la meilleur accuracy (0.7871) sont {'C': 0.6, 'penalty': 'l2'}, c'est ceux que l'on va utiliser pour la cross validation*"
   ]
  },
  {
   "cell_type": "markdown",
   "metadata": {},
   "source": [
    "#### Cross Validation"
   ]
  },
  {
   "cell_type": "code",
   "execution_count": 25,
   "metadata": {},
   "outputs": [],
   "source": [
    "SVC = LinearSVC(C=0.6, dual=False, penalty = 'l2')\n",
    "\n",
    "kfold = StratifiedKFold(n_splits=5, random_state=42)\n",
    "scoresSVC = cross_validate(SVC, predictors_tr,targets_tr, scoring=\"accuracy\", cv=kfold)"
   ]
  },
  {
   "cell_type": "code",
   "execution_count": 22,
   "metadata": {},
   "outputs": [
    {
     "data": {
      "text/html": [
       "<div>\n",
       "<style scoped>\n",
       "    .dataframe tbody tr th:only-of-type {\n",
       "        vertical-align: middle;\n",
       "    }\n",
       "\n",
       "    .dataframe tbody tr th {\n",
       "        vertical-align: top;\n",
       "    }\n",
       "\n",
       "    .dataframe thead th {\n",
       "        text-align: right;\n",
       "    }\n",
       "</style>\n",
       "<table border=\"1\" class=\"dataframe\">\n",
       "  <thead>\n",
       "    <tr style=\"text-align: right;\">\n",
       "      <th></th>\n",
       "      <th>fit_time</th>\n",
       "      <th>score_time</th>\n",
       "      <th>test_score</th>\n",
       "      <th>train_score</th>\n",
       "    </tr>\n",
       "  </thead>\n",
       "  <tbody>\n",
       "    <tr>\n",
       "      <th>0</th>\n",
       "      <td>3.282264</td>\n",
       "      <td>0.062783</td>\n",
       "      <td>0.788309</td>\n",
       "      <td>0.851724</td>\n",
       "    </tr>\n",
       "    <tr>\n",
       "      <th>1</th>\n",
       "      <td>3.309183</td>\n",
       "      <td>0.052820</td>\n",
       "      <td>0.794720</td>\n",
       "      <td>0.848078</td>\n",
       "    </tr>\n",
       "    <tr>\n",
       "      <th>2</th>\n",
       "      <td>3.293187</td>\n",
       "      <td>0.053856</td>\n",
       "      <td>0.789818</td>\n",
       "      <td>0.848581</td>\n",
       "    </tr>\n",
       "    <tr>\n",
       "      <th>3</th>\n",
       "      <td>3.234346</td>\n",
       "      <td>0.053855</td>\n",
       "      <td>0.784789</td>\n",
       "      <td>0.853327</td>\n",
       "    </tr>\n",
       "    <tr>\n",
       "      <th>4</th>\n",
       "      <td>3.331131</td>\n",
       "      <td>0.053811</td>\n",
       "      <td>0.796455</td>\n",
       "      <td>0.848334</td>\n",
       "    </tr>\n",
       "  </tbody>\n",
       "</table>\n",
       "</div>"
      ],
      "text/plain": [
       "   fit_time  score_time  test_score  train_score\n",
       "0  3.282264    0.062783    0.788309     0.851724\n",
       "1  3.309183    0.052820    0.794720     0.848078\n",
       "2  3.293187    0.053856    0.789818     0.848581\n",
       "3  3.234346    0.053855    0.784789     0.853327\n",
       "4  3.331131    0.053811    0.796455     0.848334"
      ]
     },
     "execution_count": 22,
     "metadata": {},
     "output_type": "execute_result"
    }
   ],
   "source": [
    "pd.DataFrame(scoresSVC)"
   ]
  },
  {
   "cell_type": "code",
   "execution_count": 26,
   "metadata": {},
   "outputs": [
    {
     "data": {
      "text/html": [
       "<div>\n",
       "<style scoped>\n",
       "    .dataframe tbody tr th:only-of-type {\n",
       "        vertical-align: middle;\n",
       "    }\n",
       "\n",
       "    .dataframe tbody tr th {\n",
       "        vertical-align: top;\n",
       "    }\n",
       "\n",
       "    .dataframe thead th {\n",
       "        text-align: right;\n",
       "    }\n",
       "</style>\n",
       "<table border=\"1\" class=\"dataframe\">\n",
       "  <thead>\n",
       "    <tr style=\"text-align: right;\">\n",
       "      <th></th>\n",
       "      <th>fit_time</th>\n",
       "      <th>score_time</th>\n",
       "      <th>test_score</th>\n",
       "      <th>train_score</th>\n",
       "    </tr>\n",
       "  </thead>\n",
       "  <tbody>\n",
       "    <tr>\n",
       "      <th>0</th>\n",
       "      <td>3.104031</td>\n",
       "      <td>0.003968</td>\n",
       "      <td>0.788889</td>\n",
       "      <td>0.854009</td>\n",
       "    </tr>\n",
       "    <tr>\n",
       "      <th>1</th>\n",
       "      <td>3.183969</td>\n",
       "      <td>0.004030</td>\n",
       "      <td>0.799116</td>\n",
       "      <td>0.851757</td>\n",
       "    </tr>\n",
       "    <tr>\n",
       "      <th>2</th>\n",
       "      <td>3.219999</td>\n",
       "      <td>0.004035</td>\n",
       "      <td>0.789913</td>\n",
       "      <td>0.851807</td>\n",
       "    </tr>\n",
       "    <tr>\n",
       "      <th>3</th>\n",
       "      <td>3.016000</td>\n",
       "      <td>0.004033</td>\n",
       "      <td>0.785055</td>\n",
       "      <td>0.855956</td>\n",
       "    </tr>\n",
       "    <tr>\n",
       "      <th>4</th>\n",
       "      <td>3.100000</td>\n",
       "      <td>0.004034</td>\n",
       "      <td>0.795294</td>\n",
       "      <td>0.852124</td>\n",
       "    </tr>\n",
       "  </tbody>\n",
       "</table>\n",
       "</div>"
      ],
      "text/plain": [
       "   fit_time  score_time  test_score  train_score\n",
       "0  3.104031    0.003968    0.788889     0.854009\n",
       "1  3.183969    0.004030    0.799116     0.851757\n",
       "2  3.219999    0.004035    0.789913     0.851807\n",
       "3  3.016000    0.004033    0.785055     0.855956\n",
       "4  3.100000    0.004034    0.795294     0.852124"
      ]
     },
     "execution_count": 26,
     "metadata": {},
     "output_type": "execute_result"
    }
   ],
   "source": [
    "pd.DataFrame(scoresSVC)"
   ]
  },
  {
   "cell_type": "markdown",
   "metadata": {},
   "source": [
    "## Random Forest"
   ]
  },
  {
   "cell_type": "markdown",
   "metadata": {},
   "source": [
    "#### Hyperparameter tuning"
   ]
  },
  {
   "cell_type": "code",
   "execution_count": 132,
   "metadata": {},
   "outputs": [
    {
     "name": "stdout",
     "output_type": "stream",
     "text": [
      "RandomForestClassifier(bootstrap=True, class_weight=None, criterion='gini',\n",
      "            max_depth=None, max_features='auto', max_leaf_nodes=None,\n",
      "            min_impurity_decrease=0.0, min_impurity_split=None,\n",
      "            min_samples_leaf=1, min_samples_split=2,\n",
      "            min_weight_fraction_leaf=0.0, n_estimators=100, n_jobs=None,\n",
      "            oob_score=False, random_state=None, verbose=0,\n",
      "            warm_start=False)\n",
      "\n",
      " Résultats de GridSearchCV : \n",
      "     mean_fit_time  std_fit_time  mean_score_time  std_score_time  \\\n",
      "0        5.682622      0.863951         0.471772        0.080183   \n",
      "1        2.036965      0.039339         0.412220        0.006407   \n",
      "2        6.553703      0.366409         0.505871        0.040299   \n",
      "3        2.233685      0.057749         0.429186        0.008952   \n",
      "4        7.937210      0.248780         0.461743        0.011979   \n",
      "5        2.679151      0.051848         0.441667        0.011503   \n",
      "6        9.138499      0.247780         0.490245        0.015916   \n",
      "7        2.852745      0.067656         0.484218        0.009744   \n",
      "8       10.332262      0.376414         0.563748        0.036009   \n",
      "9        3.171679      0.179045         0.536551        0.043526   \n",
      "10      12.056939      0.127124         0.590222        0.031941   \n",
      "11       3.402637      0.214556         0.524341        0.009933   \n",
      "\n",
      "   param_max_depth param_max_features  \\\n",
      "0                3               auto   \n",
      "1                3               log2   \n",
      "2                4               auto   \n",
      "3                4               log2   \n",
      "4                5               auto   \n",
      "5                5               log2   \n",
      "6                6               auto   \n",
      "7                6               log2   \n",
      "8                7               auto   \n",
      "9                7               log2   \n",
      "10               8               auto   \n",
      "11               8               log2   \n",
      "\n",
      "                                      params  split0_test_score  \\\n",
      "0   {'max_depth': 3, 'max_features': 'auto'}           0.347056   \n",
      "1   {'max_depth': 3, 'max_features': 'log2'}           0.264495   \n",
      "2   {'max_depth': 4, 'max_features': 'auto'}           0.406997   \n",
      "3   {'max_depth': 4, 'max_features': 'log2'}           0.285833   \n",
      "4   {'max_depth': 5, 'max_features': 'auto'}           0.433537   \n",
      "5   {'max_depth': 5, 'max_features': 'log2'}           0.305361   \n",
      "6   {'max_depth': 6, 'max_features': 'auto'}           0.467692   \n",
      "7   {'max_depth': 6, 'max_features': 'log2'}           0.324059   \n",
      "8   {'max_depth': 7, 'max_features': 'auto'}           0.486165   \n",
      "9   {'max_depth': 7, 'max_features': 'log2'}           0.344341   \n",
      "10  {'max_depth': 8, 'max_features': 'auto'}           0.498002   \n",
      "11  {'max_depth': 8, 'max_features': 'log2'}           0.342079   \n",
      "\n",
      "    split1_test_score  split2_test_score  mean_test_score  std_test_score  \\\n",
      "0            0.367147           0.369982         0.361392        0.010206   \n",
      "1            0.277170           0.245699         0.262458        0.012928   \n",
      "2            0.396410           0.414202         0.405868        0.007306   \n",
      "3            0.260502           0.278449         0.274928        0.010637   \n",
      "4            0.435779           0.434727         0.434681        0.000916   \n",
      "5            0.294894           0.302369         0.300875        0.004402   \n",
      "6            0.460065           0.465967         0.464575        0.003266   \n",
      "7            0.336224           0.316103         0.325464        0.008274   \n",
      "8            0.486160           0.484908         0.485744        0.000591   \n",
      "9            0.353948           0.340703         0.346332        0.005587   \n",
      "10           0.491138           0.505810         0.498315        0.005994   \n",
      "11           0.356135           0.352249         0.350153        0.005927   \n",
      "\n",
      "    rank_test_score  split0_train_score  split1_train_score  \\\n",
      "0                 6            0.350534            0.367075   \n",
      "1                12            0.267285            0.274901   \n",
      "2                 5            0.411414            0.402753   \n",
      "3                11            0.287202            0.261814   \n",
      "4                 4            0.436536            0.443673   \n",
      "5                10            0.308061            0.298774   \n",
      "6                 3            0.473502            0.470903   \n",
      "7                 9            0.326355            0.336677   \n",
      "8                 2            0.489382            0.496474   \n",
      "9                 8            0.347667            0.362474   \n",
      "10                1            0.508430            0.504959   \n",
      "11                7            0.344084            0.359796   \n",
      "\n",
      "    split2_train_score  mean_train_score  std_train_score  \n",
      "0             0.367129          0.361579         0.007810  \n",
      "1             0.248021          0.263402         0.011312  \n",
      "2             0.412601          0.408923         0.004389  \n",
      "3             0.277392          0.275469         0.010453  \n",
      "4             0.432509          0.437573         0.004616  \n",
      "5             0.302692          0.303176         0.003807  \n",
      "6             0.465161          0.469855         0.003485  \n",
      "7             0.318566          0.327199         0.007418  \n",
      "8             0.484692          0.490182         0.004843  \n",
      "9             0.346542          0.352228         0.007260  \n",
      "10            0.510105          0.507832         0.002143  \n",
      "11            0.355592          0.353157         0.006642  \n",
      "\n",
      " Best estimator : \n",
      " RandomForestClassifier(bootstrap=True, class_weight=None, criterion='gini',\n",
      "            max_depth=8, max_features='auto', max_leaf_nodes=None,\n",
      "            min_impurity_decrease=0.0, min_impurity_split=None,\n",
      "            min_samples_leaf=1, min_samples_split=2,\n",
      "            min_weight_fraction_leaf=0.0, n_estimators=100, n_jobs=None,\n",
      "            oob_score=False, random_state=None, verbose=0,\n",
      "            warm_start=False)\n",
      "\n",
      " Best Parameter : \n",
      " {'max_depth': 8, 'max_features': 'auto'}\n",
      "\n",
      " Best Score (mean) : \n",
      " 0.49831548247598934\n",
      "\n",
      " Best std (mean) : \n",
      " 0.005993500179417386\n"
     ]
    }
   ],
   "source": [
    "parameters = {'max_depth' :[3, 4, 5, 6, 7, 8], 'max_features' : ('auto', 'log2')}\n",
    "\n",
    "classifier = RandomForestClassifier(n_estimators = 100)\n",
    "\n",
    "algo(classifier,predictors_tr,targets_tr,parameters)"
   ]
  },
  {
   "cell_type": "markdown",
   "metadata": {},
   "source": [
    "#### Cross Validation"
   ]
  },
  {
   "cell_type": "code",
   "execution_count": 23,
   "metadata": {},
   "outputs": [],
   "source": [
    "RF = RandomForestClassifier(n_estimators = 750, max_depth = 8, max_features = 'auto')\n",
    "\n",
    "kfold = KFold(n_splits=3, random_state=42)\n",
    "scoresRF = cross_validate(RF, predictors_tr,targets_tr, scoring=\"accuracy\", cv=kfold)"
   ]
  },
  {
   "cell_type": "code",
   "execution_count": 24,
   "metadata": {},
   "outputs": [
    {
     "data": {
      "text/html": [
       "<div>\n",
       "<style scoped>\n",
       "    .dataframe tbody tr th:only-of-type {\n",
       "        vertical-align: middle;\n",
       "    }\n",
       "\n",
       "    .dataframe tbody tr th {\n",
       "        vertical-align: top;\n",
       "    }\n",
       "\n",
       "    .dataframe thead th {\n",
       "        text-align: right;\n",
       "    }\n",
       "</style>\n",
       "<table border=\"1\" class=\"dataframe\">\n",
       "  <thead>\n",
       "    <tr style=\"text-align: right;\">\n",
       "      <th></th>\n",
       "      <th>fit_time</th>\n",
       "      <th>score_time</th>\n",
       "      <th>test_score</th>\n",
       "      <th>train_score</th>\n",
       "    </tr>\n",
       "  </thead>\n",
       "  <tbody>\n",
       "    <tr>\n",
       "      <th>0</th>\n",
       "      <td>87.527468</td>\n",
       "      <td>3.201404</td>\n",
       "      <td>0.505129</td>\n",
       "      <td>0.513464</td>\n",
       "    </tr>\n",
       "    <tr>\n",
       "      <th>1</th>\n",
       "      <td>90.495063</td>\n",
       "      <td>3.191691</td>\n",
       "      <td>0.497813</td>\n",
       "      <td>0.509994</td>\n",
       "    </tr>\n",
       "    <tr>\n",
       "      <th>2</th>\n",
       "      <td>87.820161</td>\n",
       "      <td>3.222183</td>\n",
       "      <td>0.506487</td>\n",
       "      <td>0.508184</td>\n",
       "    </tr>\n",
       "  </tbody>\n",
       "</table>\n",
       "</div>"
      ],
      "text/plain": [
       "    fit_time  score_time  test_score  train_score\n",
       "0  87.527468    3.201404    0.505129     0.513464\n",
       "1  90.495063    3.191691    0.497813     0.509994\n",
       "2  87.820161    3.222183    0.506487     0.508184"
      ]
     },
     "execution_count": 24,
     "metadata": {},
     "output_type": "execute_result"
    }
   ],
   "source": [
    "pd.DataFrame(scoresRF)"
   ]
  },
  {
   "cell_type": "markdown",
   "metadata": {},
   "source": [
    "## Decision Tree"
   ]
  },
  {
   "cell_type": "markdown",
   "metadata": {},
   "source": [
    "#### Hyperparameter tuning"
   ]
  },
  {
   "cell_type": "code",
   "execution_count": 144,
   "metadata": {},
   "outputs": [
    {
     "name": "stdout",
     "output_type": "stream",
     "text": [
      "DecisionTreeClassifier(class_weight=None, criterion='gini', max_depth=None,\n",
      "            max_features=None, max_leaf_nodes=None,\n",
      "            min_impurity_decrease=0.0, min_impurity_split=None,\n",
      "            min_samples_leaf=1, min_samples_split=2,\n",
      "            min_weight_fraction_leaf=0.0, presort=False, random_state=None,\n",
      "            splitter='best')\n",
      "\n",
      " Résultats de GridSearchCV : \n",
      "      mean_fit_time  std_fit_time  mean_score_time  std_score_time  \\\n",
      "0         1.330174      0.874538         0.149932        0.020233   \n",
      "1         0.732696      0.018593         0.144279        0.005888   \n",
      "2         0.708440      0.001255         0.143290        0.000929   \n",
      "3         0.762526      0.047112         0.159578        0.017000   \n",
      "4         0.789810      0.105120         0.151595        0.010772   \n",
      "5         0.691814      0.010624         0.134982        0.000483   \n",
      "6         0.771272      0.046881         0.155917        0.023830   \n",
      "7         0.777667      0.028643         0.146276        0.005755   \n",
      "8         0.734709      0.013248         0.151254        0.010490   \n",
      "9         0.711781      0.004495         0.142618        0.002823   \n",
      "10        0.711409      0.003671         0.141299        0.002623   \n",
      "11        0.709452      0.017870         0.142281        0.001666   \n",
      "12        0.695457      0.008983         0.139977        0.001253   \n",
      "13        0.694155      0.003560         0.139295        0.001221   \n",
      "14        0.691149      0.000018         0.136621        0.000815   \n",
      "15        0.708888      0.016468         0.137309        0.000457   \n",
      "16        0.690175      0.002139         0.137970        0.001237   \n",
      "17        0.685167      0.002935         0.137641        0.000814   \n",
      "18        0.693137      0.002931         0.136295        0.000465   \n",
      "19        0.691504      0.001886         0.137955        0.000477   \n",
      "20        0.691510      0.000472         0.137949        0.000943   \n",
      "21        0.694132      0.004304         0.138971        0.001249   \n",
      "22        0.698116      0.000826         0.136976        0.000947   \n",
      "23        0.719724      0.018736         0.148289        0.015032   \n",
      "24        0.741687      0.037317         0.144602        0.011293   \n",
      "25        0.711788      0.027039         0.140611        0.004944   \n",
      "26        0.710093      0.012009         0.136967        0.001236   \n",
      "27        0.691144      0.004532         0.138980        0.000934   \n",
      "28        0.710050      0.018577         0.138288        0.000464   \n",
      "29        0.706089      0.024241         0.137602        0.002928   \n",
      "..             ...           ...              ...             ...   \n",
      "186       0.976068      0.032671         0.188155        0.024475   \n",
      "187       0.740996      0.004970         0.142628        0.000825   \n",
      "188       0.738042      0.002952         0.145272        0.008993   \n",
      "189       0.765288      0.069658         0.143959        0.003835   \n",
      "190       0.704459      0.007907         0.141637        0.002127   \n",
      "191       0.779241      0.050348         0.148270        0.006604   \n",
      "192       0.737374      0.001681         0.142617        0.003567   \n",
      "193       0.684855      0.010182         0.137299        0.003761   \n",
      "194       0.685498      0.003831         0.137294        0.001665   \n",
      "195       0.680839      0.000947         0.135959        0.003280   \n",
      "196       0.683839      0.004899         0.136321        0.000947   \n",
      "197       0.674522      0.002507         0.138621        0.001618   \n",
      "198       0.738683      0.002026         0.141631        0.001651   \n",
      "199       0.734703      0.006003         0.139303        0.000476   \n",
      "200       0.811497      0.040310         0.155935        0.016158   \n",
      "201       0.762622      0.049009         0.141945        0.009084   \n",
      "202       0.772270      0.032897         0.148271        0.005422   \n",
      "203       0.763446      0.041719         0.148593        0.009066   \n",
      "204       0.719098      0.034337         0.140956        0.000940   \n",
      "205       0.730363      0.050575         0.145288        0.015060   \n",
      "206       0.720418      0.020365         0.147578        0.017003   \n",
      "207       0.906858      0.073619         0.155554        0.016288   \n",
      "208       0.837433      0.015116         0.147600        0.004929   \n",
      "209       0.870250      0.047143         0.148252        0.009451   \n",
      "210       0.829792      0.008802         0.147602        0.004886   \n",
      "211       0.800528      0.021794         0.140293        0.003083   \n",
      "212       0.777597      0.006118         0.148280        0.008799   \n",
      "213       0.755653      0.025273         0.136959        0.001232   \n",
      "214       0.762628      0.001881         0.139647        0.002949   \n",
      "215       0.803492      0.044217         0.138629        0.000814   \n",
      "\n",
      "    param_criterion param_max_depth param_max_features param_min_samples_leaf  \\\n",
      "0              gini               1                  1                      1   \n",
      "1              gini               1                  1                      1   \n",
      "2              gini               1                  1                      1   \n",
      "3              gini               1                  1                      3   \n",
      "4              gini               1                  1                      3   \n",
      "5              gini               1                  1                      3   \n",
      "6              gini               1                  1                     10   \n",
      "7              gini               1                  1                     10   \n",
      "8              gini               1                  1                     10   \n",
      "9              gini               1                  3                      1   \n",
      "10             gini               1                  3                      1   \n",
      "11             gini               1                  3                      1   \n",
      "12             gini               1                  3                      3   \n",
      "13             gini               1                  3                      3   \n",
      "14             gini               1                  3                      3   \n",
      "15             gini               1                  3                     10   \n",
      "16             gini               1                  3                     10   \n",
      "17             gini               1                  3                     10   \n",
      "18             gini               1                 10                      1   \n",
      "19             gini               1                 10                      1   \n",
      "20             gini               1                 10                      1   \n",
      "21             gini               1                 10                      3   \n",
      "22             gini               1                 10                      3   \n",
      "23             gini               1                 10                      3   \n",
      "24             gini               1                 10                     10   \n",
      "25             gini               1                 10                     10   \n",
      "26             gini               1                 10                     10   \n",
      "27             gini               5                  1                      1   \n",
      "28             gini               5                  1                      1   \n",
      "29             gini               5                  1                      1   \n",
      "..              ...             ...                ...                    ...   \n",
      "186         entropy              10                 10                     10   \n",
      "187         entropy              10                 10                     10   \n",
      "188         entropy              10                 10                     10   \n",
      "189         entropy              30                  1                      1   \n",
      "190         entropy              30                  1                      1   \n",
      "191         entropy              30                  1                      1   \n",
      "192         entropy              30                  1                      3   \n",
      "193         entropy              30                  1                      3   \n",
      "194         entropy              30                  1                      3   \n",
      "195         entropy              30                  1                     10   \n",
      "196         entropy              30                  1                     10   \n",
      "197         entropy              30                  1                     10   \n",
      "198         entropy              30                  3                      1   \n",
      "199         entropy              30                  3                      1   \n",
      "200         entropy              30                  3                      1   \n",
      "201         entropy              30                  3                      3   \n",
      "202         entropy              30                  3                      3   \n",
      "203         entropy              30                  3                      3   \n",
      "204         entropy              30                  3                     10   \n",
      "205         entropy              30                  3                     10   \n",
      "206         entropy              30                  3                     10   \n",
      "207         entropy              30                 10                      1   \n",
      "208         entropy              30                 10                      1   \n",
      "209         entropy              30                 10                      1   \n",
      "210         entropy              30                 10                      3   \n",
      "211         entropy              30                 10                      3   \n",
      "212         entropy              30                 10                      3   \n",
      "213         entropy              30                 10                     10   \n",
      "214         entropy              30                 10                     10   \n",
      "215         entropy              30                 10                     10   \n",
      "\n",
      "    param_min_samples_split  \\\n",
      "0                         2   \n",
      "1                         4   \n",
      "2                        10   \n",
      "3                         2   \n",
      "4                         4   \n",
      "5                        10   \n",
      "6                         2   \n",
      "7                         4   \n",
      "8                        10   \n",
      "9                         2   \n",
      "10                        4   \n",
      "11                       10   \n",
      "12                        2   \n",
      "13                        4   \n",
      "14                       10   \n",
      "15                        2   \n",
      "16                        4   \n",
      "17                       10   \n",
      "18                        2   \n",
      "19                        4   \n",
      "20                       10   \n",
      "21                        2   \n",
      "22                        4   \n",
      "23                       10   \n",
      "24                        2   \n",
      "25                        4   \n",
      "26                       10   \n",
      "27                        2   \n",
      "28                        4   \n",
      "29                       10   \n",
      "..                      ...   \n",
      "186                       2   \n",
      "187                       4   \n",
      "188                      10   \n",
      "189                       2   \n",
      "190                       4   \n",
      "191                      10   \n",
      "192                       2   \n",
      "193                       4   \n",
      "194                      10   \n",
      "195                       2   \n",
      "196                       4   \n",
      "197                      10   \n",
      "198                       2   \n",
      "199                       4   \n",
      "200                      10   \n",
      "201                       2   \n",
      "202                       4   \n",
      "203                      10   \n",
      "204                       2   \n",
      "205                       4   \n",
      "206                      10   \n",
      "207                       2   \n",
      "208                       4   \n",
      "209                      10   \n",
      "210                       2   \n",
      "211                       4   \n",
      "212                      10   \n",
      "213                       2   \n",
      "214                       4   \n",
      "215                      10   \n",
      "\n",
      "                                                params  ...  \\\n",
      "0    {'criterion': 'gini', 'max_depth': 1, 'max_fea...  ...   \n",
      "1    {'criterion': 'gini', 'max_depth': 1, 'max_fea...  ...   \n",
      "2    {'criterion': 'gini', 'max_depth': 1, 'max_fea...  ...   \n",
      "3    {'criterion': 'gini', 'max_depth': 1, 'max_fea...  ...   \n",
      "4    {'criterion': 'gini', 'max_depth': 1, 'max_fea...  ...   \n",
      "5    {'criterion': 'gini', 'max_depth': 1, 'max_fea...  ...   \n",
      "6    {'criterion': 'gini', 'max_depth': 1, 'max_fea...  ...   \n",
      "7    {'criterion': 'gini', 'max_depth': 1, 'max_fea...  ...   \n",
      "8    {'criterion': 'gini', 'max_depth': 1, 'max_fea...  ...   \n",
      "9    {'criterion': 'gini', 'max_depth': 1, 'max_fea...  ...   \n",
      "10   {'criterion': 'gini', 'max_depth': 1, 'max_fea...  ...   \n",
      "11   {'criterion': 'gini', 'max_depth': 1, 'max_fea...  ...   \n",
      "12   {'criterion': 'gini', 'max_depth': 1, 'max_fea...  ...   \n",
      "13   {'criterion': 'gini', 'max_depth': 1, 'max_fea...  ...   \n",
      "14   {'criterion': 'gini', 'max_depth': 1, 'max_fea...  ...   \n",
      "15   {'criterion': 'gini', 'max_depth': 1, 'max_fea...  ...   \n",
      "16   {'criterion': 'gini', 'max_depth': 1, 'max_fea...  ...   \n",
      "17   {'criterion': 'gini', 'max_depth': 1, 'max_fea...  ...   \n",
      "18   {'criterion': 'gini', 'max_depth': 1, 'max_fea...  ...   \n",
      "19   {'criterion': 'gini', 'max_depth': 1, 'max_fea...  ...   \n",
      "20   {'criterion': 'gini', 'max_depth': 1, 'max_fea...  ...   \n",
      "21   {'criterion': 'gini', 'max_depth': 1, 'max_fea...  ...   \n",
      "22   {'criterion': 'gini', 'max_depth': 1, 'max_fea...  ...   \n",
      "23   {'criterion': 'gini', 'max_depth': 1, 'max_fea...  ...   \n",
      "24   {'criterion': 'gini', 'max_depth': 1, 'max_fea...  ...   \n",
      "25   {'criterion': 'gini', 'max_depth': 1, 'max_fea...  ...   \n",
      "26   {'criterion': 'gini', 'max_depth': 1, 'max_fea...  ...   \n",
      "27   {'criterion': 'gini', 'max_depth': 5, 'max_fea...  ...   \n",
      "28   {'criterion': 'gini', 'max_depth': 5, 'max_fea...  ...   \n",
      "29   {'criterion': 'gini', 'max_depth': 5, 'max_fea...  ...   \n",
      "..                                                 ...  ...   \n",
      "186  {'criterion': 'entropy', 'max_depth': 10, 'max...  ...   \n",
      "187  {'criterion': 'entropy', 'max_depth': 10, 'max...  ...   \n",
      "188  {'criterion': 'entropy', 'max_depth': 10, 'max...  ...   \n",
      "189  {'criterion': 'entropy', 'max_depth': 30, 'max...  ...   \n",
      "190  {'criterion': 'entropy', 'max_depth': 30, 'max...  ...   \n",
      "191  {'criterion': 'entropy', 'max_depth': 30, 'max...  ...   \n",
      "192  {'criterion': 'entropy', 'max_depth': 30, 'max...  ...   \n",
      "193  {'criterion': 'entropy', 'max_depth': 30, 'max...  ...   \n",
      "194  {'criterion': 'entropy', 'max_depth': 30, 'max...  ...   \n",
      "195  {'criterion': 'entropy', 'max_depth': 30, 'max...  ...   \n",
      "196  {'criterion': 'entropy', 'max_depth': 30, 'max...  ...   \n",
      "197  {'criterion': 'entropy', 'max_depth': 30, 'max...  ...   \n",
      "198  {'criterion': 'entropy', 'max_depth': 30, 'max...  ...   \n",
      "199  {'criterion': 'entropy', 'max_depth': 30, 'max...  ...   \n",
      "200  {'criterion': 'entropy', 'max_depth': 30, 'max...  ...   \n",
      "201  {'criterion': 'entropy', 'max_depth': 30, 'max...  ...   \n",
      "202  {'criterion': 'entropy', 'max_depth': 30, 'max...  ...   \n",
      "203  {'criterion': 'entropy', 'max_depth': 30, 'max...  ...   \n",
      "204  {'criterion': 'entropy', 'max_depth': 30, 'max...  ...   \n",
      "205  {'criterion': 'entropy', 'max_depth': 30, 'max...  ...   \n",
      "206  {'criterion': 'entropy', 'max_depth': 30, 'max...  ...   \n",
      "207  {'criterion': 'entropy', 'max_depth': 30, 'max...  ...   \n",
      "208  {'criterion': 'entropy', 'max_depth': 30, 'max...  ...   \n",
      "209  {'criterion': 'entropy', 'max_depth': 30, 'max...  ...   \n",
      "210  {'criterion': 'entropy', 'max_depth': 30, 'max...  ...   \n",
      "211  {'criterion': 'entropy', 'max_depth': 30, 'max...  ...   \n",
      "212  {'criterion': 'entropy', 'max_depth': 30, 'max...  ...   \n",
      "213  {'criterion': 'entropy', 'max_depth': 30, 'max...  ...   \n",
      "214  {'criterion': 'entropy', 'max_depth': 30, 'max...  ...   \n",
      "215  {'criterion': 'entropy', 'max_depth': 30, 'max...  ...   \n",
      "\n",
      "     split1_test_score  split2_test_score  mean_test_score  std_test_score  \\\n",
      "0             0.197903           0.198234         0.197893        0.000283   \n",
      "1             0.197074           0.197631         0.197265        0.000259   \n",
      "2             0.197074           0.197706         0.198773        0.001973   \n",
      "3             0.197074           0.215590         0.203223        0.008742   \n",
      "4             0.197526           0.197102         0.197290        0.000177   \n",
      "5             0.197300           0.199215         0.197969        0.000882   \n",
      "6             0.197074           0.197102         0.198371        0.001814   \n",
      "7             0.197074           0.197102         0.197063        0.000037   \n",
      "8             0.197074           0.197102         0.197290        0.000285   \n",
      "9             0.197074           0.197102         0.197063        0.000037   \n",
      "10            0.197074           0.197102         0.198572        0.002098   \n",
      "11            0.197074           0.197102         0.197164        0.000108   \n",
      "12            0.199563           0.199819         0.198874        0.001160   \n",
      "13            0.201523           0.201177         0.199904        0.002049   \n",
      "14            0.197074           0.226758         0.207523        0.013614   \n",
      "15            0.197375           0.197102         0.197315        0.000155   \n",
      "16            0.197828           0.198762         0.197868        0.000714   \n",
      "17            0.197451           0.202611         0.199200        0.002411   \n",
      "18            0.211102           0.203215         0.203776        0.005766   \n",
      "19            0.198356           0.197631         0.197918        0.000315   \n",
      "20            0.197074           0.203894         0.199728        0.002981   \n",
      "21            0.215099           0.197932         0.203977        0.007875   \n",
      "22            0.197979           0.200121         0.201514        0.003592   \n",
      "23            0.198507           0.225400         0.223613        0.019810   \n",
      "24            0.202278           0.197102         0.199100        0.002272   \n",
      "25            0.197074           0.197102         0.197692        0.000854   \n",
      "26            0.197074           0.197102         0.197893        0.001138   \n",
      "27            0.197074           0.204648         0.200106        0.003271   \n",
      "28            0.199110           0.197404         0.206291        0.011379   \n",
      "29            0.202806           0.208421         0.203550        0.003709   \n",
      "..                 ...                ...              ...             ...   \n",
      "186           0.294291           0.254452         0.267260        0.019123   \n",
      "187           0.218191           0.247133         0.236461        0.012980   \n",
      "188           0.271212           0.259055         0.253558        0.017104   \n",
      "189           0.235991           0.239813         0.229974        0.011315   \n",
      "190           0.211328           0.213100         0.210464        0.002577   \n",
      "191           0.217965           0.240341         0.241615        0.019850   \n",
      "192           0.203183           0.197102         0.198899        0.003043   \n",
      "193           0.197074           0.234153         0.218032        0.015519   \n",
      "194           0.198959           0.199291         0.198421        0.001004   \n",
      "195           0.198884           0.197102         0.197667        0.000861   \n",
      "196           0.200543           0.196725         0.198094        0.001736   \n",
      "197           0.198507           0.210459         0.201991        0.006016   \n",
      "198           0.280866           0.262904         0.274451        0.008179   \n",
      "199           0.245192           0.239662         0.249635        0.010437   \n",
      "200           0.255449           0.281844         0.266958        0.011035   \n",
      "201           0.222641           0.249547         0.223060        0.021448   \n",
      "202           0.202051           0.244190         0.251471        0.043624   \n",
      "203           0.207029           0.223740         0.210942        0.009271   \n",
      "204           0.197074           0.271883         0.230804        0.030974   \n",
      "205           0.197526           0.218382         0.204304        0.009953   \n",
      "206           0.197074           0.196272         0.199904        0.004580   \n",
      "207           0.348141           0.387111         0.361015        0.018447   \n",
      "208           0.352817           0.334214         0.352316        0.014573   \n",
      "209           0.320612           0.329611         0.329386        0.007074   \n",
      "210           0.288559           0.295578         0.304395        0.017663   \n",
      "211           0.358398           0.308935         0.328204        0.021621   \n",
      "212           0.339015           0.299276         0.316664        0.016599   \n",
      "213           0.325666           0.228192         0.275783        0.039823   \n",
      "214           0.308093           0.348400         0.325967        0.016765   \n",
      "215           0.367449           0.314066         0.338839        0.021961   \n",
      "\n",
      "     rank_test_score  split0_train_score  split1_train_score  \\\n",
      "0                180            0.197692            0.197888   \n",
      "1                199            0.197465            0.197096   \n",
      "2                162            0.201350            0.197058   \n",
      "3                122            0.197088            0.197360   \n",
      "4                196            0.197277            0.197435   \n",
      "5                176            0.198031            0.197662   \n",
      "6                168            0.201464            0.197058   \n",
      "7                208            0.197088            0.197058   \n",
      "8                196            0.198182            0.197058   \n",
      "9                208            0.197088            0.197058   \n",
      "10               164            0.202029            0.197058   \n",
      "11               201            0.197352            0.197058   \n",
      "12               159            0.197767            0.199170   \n",
      "13               141            0.197088            0.204035   \n",
      "14               104            0.198672            0.197058   \n",
      "15               194            0.197163            0.197473   \n",
      "16               182            0.197088            0.197963   \n",
      "17               151            0.197277            0.197586   \n",
      "18               120            0.197088            0.209730   \n",
      "19               179            0.198031            0.198077   \n",
      "20               144            0.198295            0.197058   \n",
      "21               119            0.199502            0.215576   \n",
      "22               132            0.206329            0.198642   \n",
      "23                65            0.246690            0.199698   \n",
      "24               153            0.197578            0.204677   \n",
      "25               186            0.198672            0.197058   \n",
      "26               180            0.199992            0.197058   \n",
      "27               139            0.199087            0.197662   \n",
      "28               107            0.225303            0.198152   \n",
      "29               121            0.199804            0.203658   \n",
      "..               ...                 ...                 ...   \n",
      "186               22            0.251707            0.296172   \n",
      "187               50            0.247444            0.217914   \n",
      "188               36            0.229565            0.273355   \n",
      "189               57            0.222926            0.246992   \n",
      "190               94            0.210894            0.226476   \n",
      "191               43            0.282222            0.224628   \n",
      "192              158            0.197692            0.203281   \n",
      "193               75            0.223718            0.197058   \n",
      "194              166            0.197088            0.199585   \n",
      "195              187            0.197088            0.198454   \n",
      "196              174            0.197088            0.201207   \n",
      "197              128            0.197088            0.198793   \n",
      "198               19            0.314549            0.309221   \n",
      "199               40            0.284033            0.265623   \n",
      "200               23            0.279205            0.270639   \n",
      "201               67            0.197088            0.222817   \n",
      "202               39            0.315039            0.202112   \n",
      "203               92            0.202105            0.211654   \n",
      "204               54            0.224888            0.197058   \n",
      "205              116            0.197088            0.197473   \n",
      "206              141            0.208178            0.197058   \n",
      "207                1            0.439968            0.418329   \n",
      "208                4            0.436988            0.409089   \n",
      "209               11            0.379993            0.380766   \n",
      "210               16            0.332654            0.293532   \n",
      "211               12            0.318472            0.370696   \n",
      "212               14            0.316586            0.353951   \n",
      "213               18            0.277583            0.333698   \n",
      "214               13            0.325563            0.314124   \n",
      "215                7            0.337973            0.372695   \n",
      "\n",
      "     split2_train_score  mean_train_score  std_train_score  \n",
      "0              0.197798          0.197793         0.000080  \n",
      "1              0.197308          0.197290         0.000151  \n",
      "2              0.197496          0.198635         0.001928  \n",
      "3              0.213068          0.202505         0.007470  \n",
      "4              0.197044          0.197252         0.000161  \n",
      "5              0.198552          0.198082         0.000365  \n",
      "6              0.197044          0.198522         0.002080  \n",
      "7              0.197044          0.197063         0.000018  \n",
      "8              0.197044          0.197428         0.000533  \n",
      "9              0.197119          0.197089         0.000025  \n",
      "10             0.197044          0.198711         0.002347  \n",
      "11             0.197157          0.197189         0.000122  \n",
      "12             0.200626          0.199188         0.001167  \n",
      "13             0.200852          0.200659         0.002840  \n",
      "14             0.229357          0.208362         0.014860  \n",
      "15             0.197044          0.197227         0.000181  \n",
      "16             0.198288          0.197780         0.000507  \n",
      "17             0.202360          0.199074         0.002327  \n",
      "18             0.202624          0.203148         0.005174  \n",
      "19             0.198062          0.198057         0.000019  \n",
      "20             0.203491          0.199615         0.002787  \n",
      "21             0.197459          0.204179         0.008102  \n",
      "22             0.198703          0.201225         0.003610  \n",
      "23             0.225624          0.224004         0.019218  \n",
      "24             0.197044          0.199766         0.003479  \n",
      "25             0.197044          0.197591         0.000764  \n",
      "26             0.197044          0.198032         0.001387  \n",
      "27             0.203982          0.200243         0.002707  \n",
      "28             0.197232          0.206896         0.013021  \n",
      "29             0.207375          0.203612         0.003091  \n",
      "..                  ...               ...              ...  \n",
      "186            0.250584          0.266154         0.021231  \n",
      "187            0.242139          0.235832         0.012854  \n",
      "188            0.253224          0.252048         0.017896  \n",
      "189            0.250434          0.240117         0.012237  \n",
      "190            0.221137          0.219502         0.006466  \n",
      "191            0.248850          0.251900         0.023612  \n",
      "192            0.197044          0.199339         0.002800  \n",
      "193            0.234673          0.218483         0.015796  \n",
      "194            0.198741          0.198471         0.001037  \n",
      "195            0.197044          0.197529         0.000654  \n",
      "196            0.197346          0.198547         0.001884  \n",
      "197            0.208242          0.201374         0.004906  \n",
      "198            0.284594          0.302788         0.013048  \n",
      "199            0.255071          0.268243         0.011968  \n",
      "200            0.297112          0.282319         0.011029  \n",
      "201            0.248171          0.222692         0.020855  \n",
      "202            0.242855          0.253335         0.046694  \n",
      "203            0.224757          0.212838         0.009286  \n",
      "204            0.272151          0.231366         0.030997  \n",
      "205            0.218724          0.204428         0.010110  \n",
      "206            0.198137          0.201124         0.005007  \n",
      "207            0.440125          0.432808         0.010238  \n",
      "208            0.396312          0.414130         0.016984  \n",
      "209            0.355026          0.371928         0.011956  \n",
      "210            0.303672          0.309953         0.016578  \n",
      "211            0.311515          0.333561         0.026412  \n",
      "212            0.303522          0.324686         0.021369  \n",
      "213            0.225473          0.278918         0.044193  \n",
      "214            0.344544          0.328077         0.012546  \n",
      "215            0.313702          0.341456         0.024209  \n",
      "\n",
      "[216 rows x 21 columns]\n",
      "\n",
      " Best estimator : \n",
      " DecisionTreeClassifier(class_weight=None, criterion='entropy', max_depth=30,\n",
      "            max_features=10, max_leaf_nodes=None,\n",
      "            min_impurity_decrease=0.0, min_impurity_split=None,\n",
      "            min_samples_leaf=1, min_samples_split=2,\n",
      "            min_weight_fraction_leaf=0.0, presort=False, random_state=None,\n",
      "            splitter='best')\n",
      "\n",
      " Best Parameter : \n",
      " {'criterion': 'entropy', 'max_depth': 30, 'max_features': 10, 'min_samples_leaf': 1, 'min_samples_split': 2}\n",
      "\n",
      " Best Score (mean) : \n",
      " 0.36101473324282196\n",
      "\n",
      " Best std (mean) : \n",
      " 0.018447348125681655\n"
     ]
    }
   ],
   "source": [
    "parameters = {'max_depth' : [1, 5, 10, 30]\n",
    "              , \"min_samples_split\": [2, 4\n",
    "                                      \n",
    "                                      , 10]\n",
    "              , \"max_features\": [1, 3, 10]\n",
    "              ,\"min_samples_leaf\": [1, 3, 10]\n",
    "              ,\"criterion\": [\"gini\", \"entropy\"]}\n",
    "\n",
    "classifier = DecisionTreeClassifier()\n",
    "\n",
    "algo(classifier,predictors_tr,targets_tr,parameters)"
   ]
  },
  {
   "cell_type": "markdown",
   "metadata": {},
   "source": [
    "Les résultats obtenus par la GridSearCV ne sont pas du tout convaincant, je fais une cross validation sans trop d'espoir."
   ]
  },
  {
   "cell_type": "code",
   "execution_count": 25,
   "metadata": {},
   "outputs": [],
   "source": [
    "DT = DecisionTreeClassifier(criterion = 'entropy', max_depth = 30, max_features = 10, min_samples_leaf = 1, min_samples_split = 2)\n",
    "scoresDT = ms.cross_validate(DT, predictors_tr,targets_tr, scoring=\"accuracy\",\n",
    "                        cv=5)"
   ]
  },
  {
   "cell_type": "code",
   "execution_count": 26,
   "metadata": {},
   "outputs": [
    {
     "data": {
      "text/html": [
       "<div>\n",
       "<style scoped>\n",
       "    .dataframe tbody tr th:only-of-type {\n",
       "        vertical-align: middle;\n",
       "    }\n",
       "\n",
       "    .dataframe tbody tr th {\n",
       "        vertical-align: top;\n",
       "    }\n",
       "\n",
       "    .dataframe thead th {\n",
       "        text-align: right;\n",
       "    }\n",
       "</style>\n",
       "<table border=\"1\" class=\"dataframe\">\n",
       "  <thead>\n",
       "    <tr style=\"text-align: right;\">\n",
       "      <th></th>\n",
       "      <th>fit_time</th>\n",
       "      <th>score_time</th>\n",
       "      <th>test_score</th>\n",
       "      <th>train_score</th>\n",
       "    </tr>\n",
       "  </thead>\n",
       "  <tbody>\n",
       "    <tr>\n",
       "      <th>0</th>\n",
       "      <td>1.105156</td>\n",
       "      <td>0.102723</td>\n",
       "      <td>0.341246</td>\n",
       "      <td>0.390387</td>\n",
       "    </tr>\n",
       "    <tr>\n",
       "      <th>1</th>\n",
       "      <td>1.015474</td>\n",
       "      <td>0.107723</td>\n",
       "      <td>0.356622</td>\n",
       "      <td>0.404231</td>\n",
       "    </tr>\n",
       "    <tr>\n",
       "      <th>2</th>\n",
       "      <td>1.061845</td>\n",
       "      <td>0.101865</td>\n",
       "      <td>0.378582</td>\n",
       "      <td>0.460243</td>\n",
       "    </tr>\n",
       "    <tr>\n",
       "      <th>3</th>\n",
       "      <td>0.989434</td>\n",
       "      <td>0.090849</td>\n",
       "      <td>0.363351</td>\n",
       "      <td>0.418125</td>\n",
       "    </tr>\n",
       "    <tr>\n",
       "      <th>4</th>\n",
       "      <td>1.043766</td>\n",
       "      <td>0.093261</td>\n",
       "      <td>0.346168</td>\n",
       "      <td>0.397618</td>\n",
       "    </tr>\n",
       "  </tbody>\n",
       "</table>\n",
       "</div>"
      ],
      "text/plain": [
       "   fit_time  score_time  test_score  train_score\n",
       "0  1.105156    0.102723    0.341246     0.390387\n",
       "1  1.015474    0.107723    0.356622     0.404231\n",
       "2  1.061845    0.101865    0.378582     0.460243\n",
       "3  0.989434    0.090849    0.363351     0.418125\n",
       "4  1.043766    0.093261    0.346168     0.397618"
      ]
     },
     "execution_count": 26,
     "metadata": {},
     "output_type": "execute_result"
    }
   ],
   "source": [
    "pd.DataFrame(scoresDT)"
   ]
  },
  {
   "cell_type": "markdown",
   "metadata": {},
   "source": [
    "## Gradient Boosting"
   ]
  },
  {
   "cell_type": "code",
   "execution_count": null,
   "metadata": {},
   "outputs": [],
   "source": [
    "GB = GradientBoostingClassifier()\n",
    "scoresGB = ms.cross_validate(GB, predictors_tr,targets_tr, scoring=\"accuracy\",\n",
    "                        cv=2)"
   ]
  },
  {
   "cell_type": "code",
   "execution_count": 90,
   "metadata": {},
   "outputs": [
    {
     "data": {
      "text/html": [
       "<div>\n",
       "<style scoped>\n",
       "    .dataframe tbody tr th:only-of-type {\n",
       "        vertical-align: middle;\n",
       "    }\n",
       "\n",
       "    .dataframe tbody tr th {\n",
       "        vertical-align: top;\n",
       "    }\n",
       "\n",
       "    .dataframe thead th {\n",
       "        text-align: right;\n",
       "    }\n",
       "</style>\n",
       "<table border=\"1\" class=\"dataframe\">\n",
       "  <thead>\n",
       "    <tr style=\"text-align: right;\">\n",
       "      <th></th>\n",
       "      <th>fit_time</th>\n",
       "      <th>score_time</th>\n",
       "      <th>test_score</th>\n",
       "    </tr>\n",
       "  </thead>\n",
       "  <tbody>\n",
       "    <tr>\n",
       "      <th>0</th>\n",
       "      <td>4868.854283</td>\n",
       "      <td>2.727768</td>\n",
       "      <td>0.726889</td>\n",
       "    </tr>\n",
       "    <tr>\n",
       "      <th>1</th>\n",
       "      <td>4752.475523</td>\n",
       "      <td>3.034741</td>\n",
       "      <td>0.729893</td>\n",
       "    </tr>\n",
       "  </tbody>\n",
       "</table>\n",
       "</div>"
      ],
      "text/plain": [
       "      fit_time  score_time  test_score\n",
       "0  4868.854283    2.727768    0.726889\n",
       "1  4752.475523    3.034741    0.729893"
      ]
     },
     "execution_count": 90,
     "metadata": {},
     "output_type": "execute_result"
    }
   ],
   "source": [
    "pd.DataFrame(scoresGB)"
   ]
  },
  {
   "cell_type": "markdown",
   "metadata": {},
   "source": [
    "## LightGBM"
   ]
  },
  {
   "cell_type": "markdown",
   "metadata": {},
   "source": [
    "#### Hyperparameter tuning"
   ]
  },
  {
   "cell_type": "code",
   "execution_count": 152,
   "metadata": {},
   "outputs": [
    {
     "name": "stdout",
     "output_type": "stream",
     "text": [
      "LGBMClassifier(boosting_type='gbdt', class_weight=None, colsample_bytree=1.0,\n",
      "        importance_type='split', learning_rate=0.01, max_depth=-1,\n",
      "        min_child_samples=20, min_child_weight=0.001, min_split_gain=0.0,\n",
      "        n_estimators=750, n_jobs=-1, num_leaves=31, objective=None,\n",
      "        random_state=None, reg_alpha=0.0, reg_lambda=0.0, silent=True,\n",
      "        subsample=1.0, subsample_for_bin=200000, subsample_freq=0)\n",
      "\n",
      " Résultats de GridSearchCV : \n",
      "    mean_fit_time  std_fit_time  mean_score_time  std_score_time  \\\n",
      "0     198.553254      2.951300        13.947201        0.188578   \n",
      "1     296.264122     11.634760        23.478257        1.751794   \n",
      "2     415.151034     45.584533        34.132520        5.437131   \n",
      "3     474.555254     16.123478        32.845897        1.432218   \n",
      "4     586.524136     10.564044        35.457091        0.972975   \n",
      "5     660.974923     17.898691        38.020360        1.047387   \n",
      "\n",
      "  param_max_depth            params  split0_test_score  split1_test_score  \\\n",
      "0               3  {'max_depth': 3}           0.711830           0.711743   \n",
      "1               4  {'max_depth': 4}           0.733846           0.728863   \n",
      "2               5  {'max_depth': 5}           0.743195           0.741082   \n",
      "3               6  {'max_depth': 6}           0.751037           0.749302   \n",
      "4               7  {'max_depth': 7}           0.755787           0.755562   \n",
      "5               8  {'max_depth': 8}           0.761668           0.758428   \n",
      "\n",
      "   split2_test_score  mean_test_score  std_test_score  rank_test_score  \\\n",
      "0           0.715666         0.713079        0.001829                6   \n",
      "1           0.736493         0.733067        0.003163                5   \n",
      "2           0.744340         0.742872        0.001350                4   \n",
      "3           0.752490         0.750943        0.001303                3   \n",
      "4           0.757546         0.756298        0.000887                2   \n",
      "5           0.759508         0.759868        0.001347                1   \n",
      "\n",
      "   split0_train_score  split1_train_score  split2_train_score  \\\n",
      "0            0.747841            0.753460            0.752658   \n",
      "1            0.788126            0.790760            0.790400   \n",
      "2            0.819019            0.822252            0.821017   \n",
      "3            0.846931            0.849029            0.848126   \n",
      "4            0.865716            0.866868            0.864188   \n",
      "5            0.877409            0.878748            0.876744   \n",
      "\n",
      "   mean_train_score  std_train_score  \n",
      "0          0.751320         0.002482  \n",
      "1          0.789762         0.001166  \n",
      "2          0.820762         0.001332  \n",
      "3          0.848029         0.000859  \n",
      "4          0.865591         0.001098  \n",
      "5          0.877634         0.000833  \n",
      "\n",
      " Best estimator : \n",
      " LGBMClassifier(boosting_type='gbdt', class_weight=None, colsample_bytree=1.0,\n",
      "        importance_type='split', learning_rate=0.01, max_depth=8,\n",
      "        min_child_samples=20, min_child_weight=0.001, min_split_gain=0.0,\n",
      "        n_estimators=750, n_jobs=-1, num_leaves=31, objective=None,\n",
      "        random_state=None, reg_alpha=0.0, reg_lambda=0.0, silent=True,\n",
      "        subsample=1.0, subsample_for_bin=200000, subsample_freq=0)\n",
      "\n",
      " Best Parameter : \n",
      " {'max_depth': 8}\n",
      "\n",
      " Best Score (mean) : \n",
      " 0.7598682556443908\n",
      "\n",
      " Best std (mean) : \n",
      " 0.0013469852507101117\n"
     ]
    }
   ],
   "source": [
    "parameters = {'max_depth' : [3, 4, 5, 6, 7, 8]}\n",
    "\n",
    "classifier = LGBMClassifier(n_estimators = 750, learning_rate = 0.01)\n",
    "\n",
    "algo(classifier,predictors_tr,targets_tr,parameters)"
   ]
  },
  {
   "cell_type": "markdown",
   "metadata": {},
   "source": [
    "*Le paramètre qui donnent la meilleur accuracy  est {'max_depth': 8}, c'est lui que l'on va utiliser pour la cross validation*"
   ]
  },
  {
   "cell_type": "markdown",
   "metadata": {},
   "source": [
    "#### Cross Validation"
   ]
  },
  {
   "cell_type": "code",
   "execution_count": 28,
   "metadata": {},
   "outputs": [],
   "source": [
    "lgbm_c = LGBMClassifier(n_estimators=750, learning_rate = 0.01, max_depth = 8)\n",
    "\n",
    "kfold = KFold(n_splits=3, random_state=42)\n",
    "\n",
    "scoreslgbm = ms.cross_validate(lgbm_c, predictors_tr,targets_tr, scoring=\"accuracy\",\n",
    "                        cv=kfold, return_train_score=False)"
   ]
  },
  {
   "cell_type": "code",
   "execution_count": 29,
   "metadata": {},
   "outputs": [
    {
     "data": {
      "text/html": [
       "<div>\n",
       "<style scoped>\n",
       "    .dataframe tbody tr th:only-of-type {\n",
       "        vertical-align: middle;\n",
       "    }\n",
       "\n",
       "    .dataframe tbody tr th {\n",
       "        vertical-align: top;\n",
       "    }\n",
       "\n",
       "    .dataframe thead th {\n",
       "        text-align: right;\n",
       "    }\n",
       "</style>\n",
       "<table border=\"1\" class=\"dataframe\">\n",
       "  <thead>\n",
       "    <tr style=\"text-align: right;\">\n",
       "      <th></th>\n",
       "      <th>fit_time</th>\n",
       "      <th>score_time</th>\n",
       "      <th>test_score</th>\n",
       "    </tr>\n",
       "  </thead>\n",
       "  <tbody>\n",
       "    <tr>\n",
       "      <th>0</th>\n",
       "      <td>261.773440</td>\n",
       "      <td>9.737229</td>\n",
       "      <td>0.760975</td>\n",
       "    </tr>\n",
       "    <tr>\n",
       "      <th>1</th>\n",
       "      <td>249.103537</td>\n",
       "      <td>8.516248</td>\n",
       "      <td>0.757807</td>\n",
       "    </tr>\n",
       "    <tr>\n",
       "      <th>2</th>\n",
       "      <td>241.895575</td>\n",
       "      <td>10.627718</td>\n",
       "      <td>0.760824</td>\n",
       "    </tr>\n",
       "  </tbody>\n",
       "</table>\n",
       "</div>"
      ],
      "text/plain": [
       "     fit_time  score_time  test_score\n",
       "0  261.773440    9.737229    0.760975\n",
       "1  249.103537    8.516248    0.757807\n",
       "2  241.895575   10.627718    0.760824"
      ]
     },
     "execution_count": 29,
     "metadata": {},
     "output_type": "execute_result"
    }
   ],
   "source": [
    "pd.DataFrame(scoreslgbm)"
   ]
  },
  {
   "cell_type": "markdown",
   "metadata": {},
   "source": [
    "## XGBoost"
   ]
  },
  {
   "cell_type": "code",
   "execution_count": 98,
   "metadata": {},
   "outputs": [],
   "source": [
    "xgb_model = xgb.XGBClassifier(objective=\"multi:softprob\", random_state=42)"
   ]
  },
  {
   "cell_type": "code",
   "execution_count": 99,
   "metadata": {},
   "outputs": [],
   "source": [
    "kfold = KFold(n_splits=2, random_state=42)\n",
    "\n",
    "scoresXGB = ms.cross_validate(xgb_model, predictors_tr,targets_tr, scoring=\"accuracy\",\n",
    "                        cv=kfold)\n"
   ]
  },
  {
   "cell_type": "code",
   "execution_count": 100,
   "metadata": {},
   "outputs": [
    {
     "name": "stderr",
     "output_type": "stream",
     "text": [
      "C:\\Users\\Evan\\Anaconda3\\lib\\site-packages\\sklearn\\utils\\deprecation.py:125: FutureWarning: You are accessing a training score ('train_score'), which will not be available by default any more in 0.21. If you need training scores, please set return_train_score=True\n",
      "  warnings.warn(*warn_args, **warn_kwargs)\n"
     ]
    },
    {
     "data": {
      "text/html": [
       "<div>\n",
       "<style scoped>\n",
       "    .dataframe tbody tr th:only-of-type {\n",
       "        vertical-align: middle;\n",
       "    }\n",
       "\n",
       "    .dataframe tbody tr th {\n",
       "        vertical-align: top;\n",
       "    }\n",
       "\n",
       "    .dataframe thead th {\n",
       "        text-align: right;\n",
       "    }\n",
       "</style>\n",
       "<table border=\"1\" class=\"dataframe\">\n",
       "  <thead>\n",
       "    <tr style=\"text-align: right;\">\n",
       "      <th></th>\n",
       "      <th>fit_time</th>\n",
       "      <th>score_time</th>\n",
       "      <th>test_score</th>\n",
       "      <th>train_score</th>\n",
       "    </tr>\n",
       "  </thead>\n",
       "  <tbody>\n",
       "    <tr>\n",
       "      <th>0</th>\n",
       "      <td>3919.066379</td>\n",
       "      <td>16.541080</td>\n",
       "      <td>0.721426</td>\n",
       "      <td>0.775582</td>\n",
       "    </tr>\n",
       "    <tr>\n",
       "      <th>1</th>\n",
       "      <td>3575.349207</td>\n",
       "      <td>16.696635</td>\n",
       "      <td>0.724443</td>\n",
       "      <td>0.781666</td>\n",
       "    </tr>\n",
       "  </tbody>\n",
       "</table>\n",
       "</div>"
      ],
      "text/plain": [
       "      fit_time  score_time  test_score  train_score\n",
       "0  3919.066379   16.541080    0.721426     0.775582\n",
       "1  3575.349207   16.696635    0.724443     0.781666"
      ]
     },
     "execution_count": 100,
     "metadata": {},
     "output_type": "execute_result"
    }
   ],
   "source": [
    "pd.DataFrame(scoresXGB)"
   ]
  },
  {
   "cell_type": "markdown",
   "metadata": {},
   "source": [
    "## ExtraTree"
   ]
  },
  {
   "cell_type": "markdown",
   "metadata": {},
   "source": [
    "#### HyperParameters tuning"
   ]
  },
  {
   "cell_type": "code",
   "execution_count": 158,
   "metadata": {},
   "outputs": [
    {
     "name": "stdout",
     "output_type": "stream",
     "text": [
      "ExtraTreesClassifier(bootstrap=False, class_weight=None, criterion='gini',\n",
      "           max_depth=None, max_features='auto', max_leaf_nodes=None,\n",
      "           min_impurity_decrease=0.0, min_impurity_split=None,\n",
      "           min_samples_leaf=1, min_samples_split=2,\n",
      "           min_weight_fraction_leaf=0.0, n_estimators='warn', n_jobs=None,\n",
      "           oob_score=False, random_state=None, verbose=0, warm_start=False)\n",
      "\n",
      " Résultats de GridSearchCV : \n",
      "    mean_fit_time  std_fit_time  mean_score_time  std_score_time  \\\n",
      "0      12.594043      1.144729         0.456742        0.242573   \n",
      "1     106.498354      3.731970         1.660313        0.077940   \n",
      "2     336.451806     16.649036         5.118894        0.246908   \n",
      "3     609.206235     14.249275       115.259140      123.694476   \n",
      "\n",
      "  param_n_estimators                 params  split0_test_score  \\\n",
      "0                 10   {'n_estimators': 10}           0.714318   \n",
      "1                100  {'n_estimators': 100}           0.762799   \n",
      "2                300  {'n_estimators': 300}           0.769735   \n",
      "3                600  {'n_estimators': 600}           0.771771   \n",
      "\n",
      "   split1_test_score  split2_test_score  mean_test_score  std_test_score  \\\n",
      "0           0.709782           0.712496         0.712199        0.001864   \n",
      "1           0.764236           0.764187         0.763740        0.000666   \n",
      "2           0.767102           0.768790         0.768542        0.001089   \n",
      "3           0.768535           0.770299         0.770202        0.001323   \n",
      "\n",
      "   rank_test_score  split0_train_score  split1_train_score  \\\n",
      "0                4            0.999585            0.999736   \n",
      "1                3            0.999585            0.999736   \n",
      "2                2            0.999585            0.999736   \n",
      "3                1            0.999585            0.999736   \n",
      "\n",
      "   split2_train_score  mean_train_score  std_train_score  \n",
      "0            0.999698          0.999673         0.000064  \n",
      "1            0.999698          0.999673         0.000064  \n",
      "2            0.999698          0.999673         0.000064  \n",
      "3            0.999698          0.999673         0.000064  \n",
      "\n",
      " Best estimator : \n",
      " ExtraTreesClassifier(bootstrap=False, class_weight=None, criterion='gini',\n",
      "           max_depth=None, max_features='auto', max_leaf_nodes=None,\n",
      "           min_impurity_decrease=0.0, min_impurity_split=None,\n",
      "           min_samples_leaf=1, min_samples_split=2,\n",
      "           min_weight_fraction_leaf=0.0, n_estimators=600, n_jobs=None,\n",
      "           oob_score=False, random_state=None, verbose=0, warm_start=False)\n",
      "\n",
      " Best Parameter : \n",
      " {'n_estimators': 600}\n",
      "\n",
      " Best Score (mean) : \n",
      " 0.7702016392618294\n",
      "\n",
      " Best std (mean) : \n",
      " 0.0013232344296247728\n"
     ]
    }
   ],
   "source": [
    "parameters = {'n_estimators' : [10, 100, 300, 600]}\n",
    "\n",
    "classifier = ExtraTreesClassifier()\n",
    "\n",
    "algo(classifier,predictors_tr,targets_tr,parameters)"
   ]
  },
  {
   "cell_type": "markdown",
   "metadata": {},
   "source": [
    "#### Cross validation"
   ]
  },
  {
   "cell_type": "code",
   "execution_count": 11,
   "metadata": {},
   "outputs": [],
   "source": [
    "Extra_model = ExtraTreesClassifier(n_estimators = 850)"
   ]
  },
  {
   "cell_type": "code",
   "execution_count": 12,
   "metadata": {},
   "outputs": [],
   "source": [
    "kfold = KFold(n_splits=4, random_state=42)\n",
    "\n",
    "scoresET = ms.cross_validate(Extra_model, predictors_tr,targets_tr, scoring=\"accuracy\",\n",
    "                        cv=kfold)"
   ]
  },
  {
   "cell_type": "code",
   "execution_count": 19,
   "metadata": {},
   "outputs": [
    {
     "data": {
      "text/html": [
       "<div>\n",
       "<style scoped>\n",
       "    .dataframe tbody tr th:only-of-type {\n",
       "        vertical-align: middle;\n",
       "    }\n",
       "\n",
       "    .dataframe tbody tr th {\n",
       "        vertical-align: top;\n",
       "    }\n",
       "\n",
       "    .dataframe thead th {\n",
       "        text-align: right;\n",
       "    }\n",
       "</style>\n",
       "<table border=\"1\" class=\"dataframe\">\n",
       "  <thead>\n",
       "    <tr style=\"text-align: right;\">\n",
       "      <th></th>\n",
       "      <th>fit_time</th>\n",
       "      <th>score_time</th>\n",
       "      <th>test_score</th>\n",
       "      <th>train_score</th>\n",
       "    </tr>\n",
       "  </thead>\n",
       "  <tbody>\n",
       "    <tr>\n",
       "      <th>0</th>\n",
       "      <td>995.941314</td>\n",
       "      <td>103.894531</td>\n",
       "      <td>0.774940</td>\n",
       "      <td>0.999631</td>\n",
       "    </tr>\n",
       "    <tr>\n",
       "      <th>1</th>\n",
       "      <td>970.146786</td>\n",
       "      <td>82.346164</td>\n",
       "      <td>0.776649</td>\n",
       "      <td>0.999464</td>\n",
       "    </tr>\n",
       "    <tr>\n",
       "      <th>2</th>\n",
       "      <td>961.413986</td>\n",
       "      <td>104.766399</td>\n",
       "      <td>0.770995</td>\n",
       "      <td>0.999732</td>\n",
       "    </tr>\n",
       "    <tr>\n",
       "      <th>3</th>\n",
       "      <td>971.282524</td>\n",
       "      <td>94.658385</td>\n",
       "      <td>0.777733</td>\n",
       "      <td>0.999598</td>\n",
       "    </tr>\n",
       "  </tbody>\n",
       "</table>\n",
       "</div>"
      ],
      "text/plain": [
       "     fit_time  score_time  test_score  train_score\n",
       "0  995.941314  103.894531    0.774940     0.999631\n",
       "1  970.146786   82.346164    0.776649     0.999464\n",
       "2  961.413986  104.766399    0.770995     0.999732\n",
       "3  971.282524   94.658385    0.777733     0.999598"
      ]
     },
     "execution_count": 19,
     "metadata": {},
     "output_type": "execute_result"
    }
   ],
   "source": [
    "pd.DataFrame(scoresET)"
   ]
  },
  {
   "cell_type": "markdown",
   "metadata": {},
   "source": [
    "## IV) What's cooking - Models comparison"
   ]
  },
  {
   "cell_type": "markdown",
   "metadata": {},
   "source": [
    "### Accuracy by algorithm"
   ]
  },
  {
   "cell_type": "code",
   "execution_count": 39,
   "metadata": {},
   "outputs": [],
   "source": [
    "ar = np.array([[scoresLG['test_score'].mean(),\n",
    "                scoresSVC['test_score'].mean(),\n",
    "                scoresRF['test_score'].mean(),\n",
    "                scoresDT['test_score'].mean(),\n",
    "                scoresGB['test_score'].mean()),\n",
    "                scoreslgbm['test_score'].mean(),\n",
    "                scoresXGB['test_score'].mean(),\n",
    "                scoresET['test_score'].mean(),\n",
    "               ]])\n",
    "\n",
    "    \n",
    "\n",
    "df1 = pd.DataFrame(ar, index = ['Accuracy'], columns = ['Logistic Regression',\n",
    "                                                        'Linear SVC',\n",
    "                                                        'Random Forest',\n",
    "                                                        'Decision Tree',\n",
    "                                                        'Gradient Boosting',\n",
    "                                                        'Light GBM',\n",
    "                                                        'XGBoost',\n",
    "                                                        'ExtraTree'])"
   ]
  },
  {
   "cell_type": "code",
   "execution_count": 48,
   "metadata": {},
   "outputs": [
    {
     "data": {
      "text/html": [
       "<div>\n",
       "<style scoped>\n",
       "    .dataframe tbody tr th:only-of-type {\n",
       "        vertical-align: middle;\n",
       "    }\n",
       "\n",
       "    .dataframe tbody tr th {\n",
       "        vertical-align: top;\n",
       "    }\n",
       "\n",
       "    .dataframe thead th {\n",
       "        text-align: right;\n",
       "    }\n",
       "</style>\n",
       "<table border=\"1\" class=\"dataframe\">\n",
       "  <thead>\n",
       "    <tr style=\"text-align: right;\">\n",
       "      <th></th>\n",
       "      <th>Logistic Regression</th>\n",
       "      <th>Linear SVC</th>\n",
       "      <th>Random Forest</th>\n",
       "      <th>Decision Tree</th>\n",
       "      <th>Gradient Boosting</th>\n",
       "      <th>Light GBM</th>\n",
       "      <th>XGBoost</th>\n",
       "      <th>ExtraTree</th>\n",
       "    </tr>\n",
       "  </thead>\n",
       "  <tbody>\n",
       "    <tr>\n",
       "      <th>Accuracy</th>\n",
       "      <td>0.789033</td>\n",
       "      <td>0.790818</td>\n",
       "      <td>0.503143</td>\n",
       "      <td>0.357194</td>\n",
       "      <td>0.728391</td>\n",
       "      <td>0.759868</td>\n",
       "      <td>0.722935</td>\n",
       "      <td>0.775079</td>\n",
       "    </tr>\n",
       "  </tbody>\n",
       "</table>\n",
       "</div>"
      ],
      "text/plain": [
       "          Logistic Regression  Linear SVC  Random Forest  Decision Tree  \\\n",
       "Accuracy             0.789033    0.790818       0.503143       0.357194   \n",
       "\n",
       "          Gradient Boosting  Light GBM   XGBoost  ExtraTree  \n",
       "Accuracy           0.728391   0.759868  0.722935   0.775079  "
      ]
     },
     "execution_count": 48,
     "metadata": {},
     "output_type": "execute_result"
    }
   ],
   "source": [
    "df1"
   ]
  },
  {
   "cell_type": "code",
   "execution_count": 54,
   "metadata": {},
   "outputs": [
    {
     "data": {
      "image/png": "[encoded data removed]",
      "text/plain": [
       "<Figure size 2520x1080 with 1 Axes>"
      ]
     },
     "metadata": {},
     "output_type": "display_data"
    }
   ],
   "source": [
    "plt.figure(figsize=(35,15))\n",
    "g = sns.barplot(data=df1)\n",
    "\n",
    "plt.title(\"Accuracy by algorithm\")\n",
    "plt.show()"
   ]
  },
  {
   "cell_type": "markdown",
   "metadata": {},
   "source": [
    "Except Random forest and Decision Tree who have very poor performances. All of the others models have a high accuracy, which is great ! The models that performs best are Logistic Regression and Linear SVC. With a slightly avantage for Linear SVC. "
   ]
  },
  {
   "cell_type": "markdown",
   "metadata": {},
   "source": [
    "### Variance by algorithm"
   ]
  },
  {
   "cell_type": "code",
   "execution_count": 43,
   "metadata": {},
   "outputs": [],
   "source": [
    "ar = np.array([[scoresLG['test_score'].std(),\n",
    "                scoresSVC['test_score'].std(),\n",
    "                scoresRF['test_score'].std(),\n",
    "                scoresDT['test_score'].std(),\n",
    "                scoresGB['test_score'].std(),\n",
    "                scoreslgbm['test_score'].std(),\n",
    "                scoresXGB['test_score'].std(),\n",
    "                scoresET['test_score'].std(),\n",
    "               ]])\n",
    "\n",
    "    \n",
    "\n",
    "df2 = pd.DataFrame(ar, index = ['Variance'], columns = ['Logistic Regression',\n",
    "                                                        'Linear SVC',\n",
    "                                                        'Random Forest',\n",
    "                                                        'Decision Tree',\n",
    "                                                        'Gradient Boosting',\n",
    "                                                        'Light GBM',\n",
    "                                                        'XGBoost',\n",
    "                                                        'ExtraTree'])"
   ]
  },
  {
   "cell_type": "code",
   "execution_count": 46,
   "metadata": {},
   "outputs": [
    {
     "data": {
      "text/html": [
       "<div>\n",
       "<style scoped>\n",
       "    .dataframe tbody tr th:only-of-type {\n",
       "        vertical-align: middle;\n",
       "    }\n",
       "\n",
       "    .dataframe tbody tr th {\n",
       "        vertical-align: top;\n",
       "    }\n",
       "\n",
       "    .dataframe thead th {\n",
       "        text-align: right;\n",
       "    }\n",
       "</style>\n",
       "<table border=\"1\" class=\"dataframe\">\n",
       "  <thead>\n",
       "    <tr style=\"text-align: right;\">\n",
       "      <th></th>\n",
       "      <th>Logistic Regression</th>\n",
       "      <th>Linear SVC</th>\n",
       "      <th>Random Forest</th>\n",
       "      <th>Decision Tree</th>\n",
       "      <th>Gradient Boosting</th>\n",
       "      <th>Light GBM</th>\n",
       "      <th>XGBoost</th>\n",
       "      <th>ExtraTree</th>\n",
       "    </tr>\n",
       "  </thead>\n",
       "  <tbody>\n",
       "    <tr>\n",
       "      <th>Variance</th>\n",
       "      <td>0.003801</td>\n",
       "      <td>0.004258</td>\n",
       "      <td>0.003809</td>\n",
       "      <td>0.013203</td>\n",
       "      <td>0.001502</td>\n",
       "      <td>0.001459</td>\n",
       "      <td>0.001508</td>\n",
       "      <td>0.00256</td>\n",
       "    </tr>\n",
       "  </tbody>\n",
       "</table>\n",
       "</div>"
      ],
      "text/plain": [
       "          Logistic Regression  Linear SVC  Random Forest  Decision Tree  \\\n",
       "Variance             0.003801    0.004258       0.003809       0.013203   \n",
       "\n",
       "          Gradient Boosting  Light GBM   XGBoost  ExtraTree  \n",
       "Variance           0.001502   0.001459  0.001508    0.00256  "
      ]
     },
     "execution_count": 46,
     "metadata": {},
     "output_type": "execute_result"
    }
   ],
   "source": [
    "df2"
   ]
  },
  {
   "cell_type": "code",
   "execution_count": 44,
   "metadata": {},
   "outputs": [
    {
     "data": {
      "image/png": "[encoded data removed]",
      "text/plain": [
       "<Figure size 2520x1080 with 1 Axes>"
      ]
     },
     "metadata": {},
     "output_type": "display_data"
    }
   ],
   "source": [
    "plt.figure(figsize=(35,15))\n",
    "g = sns.barplot(data=df2)\n",
    "\n",
    "plt.title(\"Variance by algorithm\")\n",
    "plt.show()"
   ]
  },
  {
   "cell_type": "markdown",
   "metadata": {},
   "source": [
    "Except Decision Tree, all the models have very little variance."
   ]
  },
  {
   "cell_type": "markdown",
   "metadata": {},
   "source": [
    "### Execution time by algorithm"
   ]
  },
  {
   "cell_type": "code",
   "execution_count": 49,
   "metadata": {},
   "outputs": [],
   "source": [
    "ar = np.array([[scoresLG['fit_time'].mean(),\n",
    "                scoresSVC['fit_time'].mean(),\n",
    "                scoresRF['fit_time'].mean(),\n",
    "                scoresDT['fit_time'].mean(),\n",
    "                scoresGB['fit_time'].mean(),\n",
    "                scoreslgbm['fit_time'].mean(),\n",
    "                scoresXGB['fit_time'].mean(),\n",
    "                scoresET['fit_time'].mean(),\n",
    "               ]])\n",
    "\n",
    "    \n",
    "\n",
    "df3 = pd.DataFrame(ar, index = ['Execution time'], columns = ['Logistic Regression',\n",
    "                                                        'Linear SVC',\n",
    "                                                        'Random Forest',\n",
    "                                                        'Decision Tree',\n",
    "                                                        'Gradient Boosting',\n",
    "                                                        'Light GBM',\n",
    "                                                        'XGBoost',\n",
    "                                                        'ExtraTree'])"
   ]
  },
  {
   "cell_type": "code",
   "execution_count": 50,
   "metadata": {},
   "outputs": [
    {
     "data": {
      "text/html": [
       "<div>\n",
       "<style scoped>\n",
       "    .dataframe tbody tr th:only-of-type {\n",
       "        vertical-align: middle;\n",
       "    }\n",
       "\n",
       "    .dataframe tbody tr th {\n",
       "        vertical-align: top;\n",
       "    }\n",
       "\n",
       "    .dataframe thead th {\n",
       "        text-align: right;\n",
       "    }\n",
       "</style>\n",
       "<table border=\"1\" class=\"dataframe\">\n",
       "  <thead>\n",
       "    <tr style=\"text-align: right;\">\n",
       "      <th></th>\n",
       "      <th>Logistic Regression</th>\n",
       "      <th>Linear SVC</th>\n",
       "      <th>Random Forest</th>\n",
       "      <th>Decision Tree</th>\n",
       "      <th>Gradient Boosting</th>\n",
       "      <th>Light GBM</th>\n",
       "      <th>XGBoost</th>\n",
       "      <th>ExtraTree</th>\n",
       "    </tr>\n",
       "  </thead>\n",
       "  <tbody>\n",
       "    <tr>\n",
       "      <th>Execution time</th>\n",
       "      <td>11.088707</td>\n",
       "      <td>3.290022</td>\n",
       "      <td>88.614231</td>\n",
       "      <td>1.043135</td>\n",
       "      <td>4810.664903</td>\n",
       "      <td>0.759868</td>\n",
       "      <td>3747.207793</td>\n",
       "      <td>0.775079</td>\n",
       "    </tr>\n",
       "  </tbody>\n",
       "</table>\n",
       "</div>"
      ],
      "text/plain": [
       "                Logistic Regression  Linear SVC  Random Forest  Decision Tree  \\\n",
       "Execution time            11.088707    3.290022      88.614231       1.043135   \n",
       "\n",
       "                Gradient Boosting  Light GBM      XGBoost  ExtraTree  \n",
       "Execution time        4810.664903   0.759868  3747.207793   0.775079  "
      ]
     },
     "execution_count": 50,
     "metadata": {},
     "output_type": "execute_result"
    }
   ],
   "source": [
    "df3"
   ]
  },
  {
   "cell_type": "code",
   "execution_count": 53,
   "metadata": {},
   "outputs": [
    {
     "data": {
      "image/png": "[encoded data removed]",
      "text/plain": [
       "<Figure size 2520x1080 with 1 Axes>"
      ]
     },
     "metadata": {},
     "output_type": "display_data"
    }
   ],
   "source": [
    "plt.figure(figsize=(35,15))\n",
    "g = sns.barplot(data=df3)\n",
    "\n",
    "plt.title(\"Execution time by algorithm\")\n",
    "plt.show()"
   ]
  },
  {
   "cell_type": "markdown",
   "metadata": {},
   "source": [
    "That was predictable but Gradient boosting and XGBoost have a very long execution time. By far the longest time in our models. The boosting algorithm tend to perform better but they also tend to be computationally expensive"
   ]
  },
  {
   "cell_type": "markdown",
   "metadata": {},
   "source": [
    "### All in one"
   ]
  },
  {
   "cell_type": "code",
   "execution_count": 68,
   "metadata": {},
   "outputs": [
    {
     "data": {
      "image/png": "[encoded data removed]",
      "text/plain": [
       "<Figure size 2520x1080 with 1 Axes>"
      ]
     },
     "metadata": {},
     "output_type": "display_data"
    },
    {
     "data": {
      "image/png": "[encoded data removed]",
      "text/plain": [
       "<Figure size 2520x1080 with 1 Axes>"
      ]
     },
     "metadata": {},
     "output_type": "display_data"
    },
    {
     "data": {
      "image/png": "[encoded data removed]",
      "text/plain": [
       "<Figure size 2520x1080 with 1 Axes>"
      ]
     },
     "metadata": {},
     "output_type": "display_data"
    }
   ],
   "source": [
    "plt.figure(figsize=(35,15))\n",
    "plt.subplot(311)\n",
    "g = sns.barplot(data=df1)\n",
    "plt.title(\"Accuracy by algorithm\")\n",
    "plt.show()\n",
    "\n",
    "plt.figure(figsize=(35,15))\n",
    "plt.subplot(312)\n",
    "g = sns.barplot(data=df2)\n",
    "plt.title(\"Variance by algorithm\")\n",
    "plt.show()\n",
    "\n",
    "plt.figure(figsize=(35,15))\n",
    "plt.subplot(313)\n",
    "g = sns.barplot(data=df3)\n",
    "plt.title(\"Execution time by algorithm\")\n",
    "plt.show()"
   ]
  },
  {
   "cell_type": "markdown",
   "metadata": {},
   "source": [
    "Creating a Unigram Ensemble model was our first attempt  build some prediction models of the cuisine. I tried some hyperparameter tuning for some of them :\n",
    "\n",
    "-Logistic Regression\n",
    "\n",
    "-Linear SVC\n",
    "\n",
    "-Random Forest\n",
    "\n",
    "-Decision Tree\n",
    "\n",
    "-Light GBM\n",
    "\n",
    "-Extra Tree\n",
    "\n",
    "No hyperparameter tuning was applied at this stage for Gradient Boosting and XGBoost, which can be considered as a future opportunity for improvement of these models.\n",
    "\n",
    "It seems that is LinearSVC and Logistic regression who are doing best. These models are validated via 5-fold cross validation and the measured average accuracy on train sample is approximately 79% for both\n",
    "\n",
    "Considering the results and the fact that we are using only unigrams (~3000 features only) - this is a good start. "
   ]
  },
  {
   "cell_type": "markdown",
   "metadata": {},
   "source": [
    "### Let's try to blend the best three classifier (Logistic Regression, Linear SVC and ExtraTreeClassifier)"
   ]
  },
  {
   "cell_type": "code",
   "execution_count": 13,
   "metadata": {},
   "outputs": [],
   "source": [
    "# Ensemble Unigram model (baseline model) \n",
    "vclf=VotingClassifier(estimators=[('clf1',LogisticRegression(C = 10, penalty = 'l2', solver = 'liblinear')),\n",
    "                                  ('clf2',LinearSVC(C=0.5, dual=False, penalty = 'l2')),\n",
    "                                  ('clf3',ExtraTreesClassifier(n_estimators = 850))], \n",
    "                                    voting='hard', weights = [1,1,1]) \n"
   ]
  },
  {
   "cell_type": "code",
   "execution_count": null,
   "metadata": {},
   "outputs": [],
   "source": [
    "# 3-fold Cross validation of  the results\n",
    "kfold = KFold(n_splits=3, random_state=42)\n",
    "valscores = cross_validate(vclf, predictors_tr, targets_tr , scoring=\"accuracy\", cv=kfold)"
   ]
  },
  {
   "cell_type": "code",
   "execution_count": 16,
   "metadata": {},
   "outputs": [
    {
     "data": {
      "text/html": [
       "<div>\n",
       "<style scoped>\n",
       "    .dataframe tbody tr th:only-of-type {\n",
       "        vertical-align: middle;\n",
       "    }\n",
       "\n",
       "    .dataframe tbody tr th {\n",
       "        vertical-align: top;\n",
       "    }\n",
       "\n",
       "    .dataframe thead th {\n",
       "        text-align: right;\n",
       "    }\n",
       "</style>\n",
       "<table border=\"1\" class=\"dataframe\">\n",
       "  <thead>\n",
       "    <tr style=\"text-align: right;\">\n",
       "      <th></th>\n",
       "      <th>fit_time</th>\n",
       "      <th>score_time</th>\n",
       "      <th>test_score</th>\n",
       "      <th>train_score</th>\n",
       "    </tr>\n",
       "  </thead>\n",
       "  <tbody>\n",
       "    <tr>\n",
       "      <th>0</th>\n",
       "      <td>893.763016</td>\n",
       "      <td>149.797140</td>\n",
       "      <td>0.791598</td>\n",
       "      <td>0.874566</td>\n",
       "    </tr>\n",
       "    <tr>\n",
       "      <th>1</th>\n",
       "      <td>813.770284</td>\n",
       "      <td>96.534095</td>\n",
       "      <td>0.787525</td>\n",
       "      <td>0.874001</td>\n",
       "    </tr>\n",
       "    <tr>\n",
       "      <th>2</th>\n",
       "      <td>882.359703</td>\n",
       "      <td>88.408790</td>\n",
       "      <td>0.791447</td>\n",
       "      <td>0.873397</td>\n",
       "    </tr>\n",
       "  </tbody>\n",
       "</table>\n",
       "</div>"
      ],
      "text/plain": [
       "     fit_time  score_time  test_score  train_score\n",
       "0  893.763016  149.797140    0.791598     0.874566\n",
       "1  813.770284   96.534095    0.787525     0.874001\n",
       "2  882.359703   88.408790    0.791447     0.873397"
      ]
     },
     "execution_count": 16,
     "metadata": {},
     "output_type": "execute_result"
    }
   ],
   "source": [
    "pd.DataFrame(valscores)"
   ]
  },
  {
   "cell_type": "code",
   "execution_count": 20,
   "metadata": {},
   "outputs": [
    {
     "name": "stdout",
     "output_type": "stream",
     "text": [
      "Mean accuracy on 3-fold cross validation: 0.7901895710765827\n"
     ]
    }
   ],
   "source": [
    "print('Mean accuracy on 3-fold cross validation: ' + str(np.mean(valscores['test_score']))) "
   ]
  },
  {
   "cell_type": "markdown",
   "metadata": {},
   "source": [
    "Our second attempt to build a prediction model of the cuisine consists of creating a Unigram Ensemble model which combines the decisions of the following three classifiers: \n",
    "- Logistic Regression;\n",
    "- Linear Support Vector Classifier;\n",
    "- ExtraTreeClassifier.\n",
    "\n",
    "Predictions generated by the three classifiers are given equal weights in the final prediction.\n",
    "The baseline model can be improved by using bigrams or higher order features (n-grams) stage which can be considered as a future opportunity for improvement of the predictive power of the model. <br><br>\n",
    "Our VotingClassifier is validated via 3-fold cross validation and the measured average accuracy on train sample is 79.01%. <br><br> \n",
    "\n",
    "\n",
    "The result obtain on Kaggle is 0.79243, which is slightly better than LinearSVC and Logistic Regression. That's my best score for now. Not bad."
   ]
  },
  {
   "cell_type": "markdown",
   "metadata": {},
   "source": [
    "##  Generate predictions on test sample"
   ]
  },
  {
   "cell_type": "markdown",
   "metadata": {},
   "source": [
    "*Some submit have been given to Kaggle but I will only show the best*"
   ]
  },
  {
   "cell_type": "markdown",
   "metadata": {},
   "source": [
    "## VotingClassifier"
   ]
  },
  {
   "cell_type": "code",
   "execution_count": 27,
   "metadata": {},
   "outputs": [
    {
     "data": {
      "text/plain": [
       "VotingClassifier(estimators=[('clf1', LogisticRegression(C=10, class_weight=None, dual=False, fit_intercept=True,\n",
       "          intercept_scaling=1, max_iter=100, multi_class='warn',\n",
       "          n_jobs=None, penalty='l2', random_state=None, solver='liblinear',\n",
       "          tol=0.0001, verbose=0, warm_start=False)), ('clf2', ...tors=850, n_jobs=None,\n",
       "           oob_score=False, random_state=None, verbose=0, warm_start=False))],\n",
       "         flatten_transform=None, n_jobs=None, voting='hard',\n",
       "         weights=[1, 1, 1])"
      ]
     },
     "execution_count": 27,
     "metadata": {},
     "output_type": "execute_result"
    }
   ],
   "source": [
    "vclf=VotingClassifier(estimators=[('clf1',LogisticRegression(C = 10, penalty = 'l2', solver = 'liblinear')),\n",
    "                                  ('clf2',LinearSVC(C=0.6, dual=False, penalty = 'l2')),\n",
    "                                  ('clf3',ExtraTreesClassifier(n_estimators = 850))], \n",
    "                                    voting='hard', weights = [1,1,1]) \n",
    "vclf.fit(predictors_tr, targets_tr)"
   ]
  },
  {
   "cell_type": "code",
   "execution_count": 31,
   "metadata": {},
   "outputs": [],
   "source": [
    "predictions = label_encoder.inverse_transform(vclf.predict(predictors_ts) )\n",
    "testdf['cuisine'] = predictions\n",
    "testdf[['id', 'cuisine']].to_csv('submission.csv', index=False)\n",
    "\n",
    "#predictions = vclf.predict(predictors_ts) \n",
    "#predictions_final = pd.DataFrame({'cuisine' : predictions , 'id' : testdf.id }, columns=['id', 'cuisine'])\n",
    "#predictions_final.to_csv('Final_submission30.csv', index = False)"
   ]
  },
  {
   "cell_type": "markdown",
   "metadata": {},
   "source": [
    "*Kaggle Score : 0.79243*"
   ]
  },
  {
   "cell_type": "code",
   "execution_count": null,
   "metadata": {},
   "outputs": [],
   "source": [
    "#Feature selection"
   ]
  },
  {
   "cell_type": "code",
   "execution_count": 40,
   "metadata": {},
   "outputs": [
    {
     "data": {
      "text/plain": [
       "(39774, 2000)"
      ]
     },
     "execution_count": 40,
     "metadata": {},
     "output_type": "execute_result"
    }
   ],
   "source": [
    "\n",
    "from sklearn.feature_selection import SelectKBest\n",
    "from sklearn.feature_selection import chi2\n",
    "\n",
    "\n",
    "X_new = SelectKBest(chi2, k=2000).fit_transform(predictors_tr, targets_tr)\n",
    "X_new.shape\n"
   ]
  },
  {
   "cell_type": "code",
   "execution_count": null,
   "metadata": {},
   "outputs": [],
   "source": [
    "vclf=VotingClassifier(estimators=[('clf1',LogisticRegression(C = 10, penalty = 'l2', solver = 'liblinear')),\n",
    "                                  ('clf2',LinearSVC(C=0.6, dual=False, penalty = 'l2')),\n",
    "                                  ('clf3',ExtraTreesClassifier(n_estimators = 850))], \n",
    "                                    voting='hard', weights = [1,1,1]) \n",
    "vclf.fit(X_new, targets_tr)"
   ]
  },
  {
   "cell_type": "code",
   "execution_count": null,
   "metadata": {},
   "outputs": [],
   "source": [
    "predictions = vclf.predict(predictors_ts) \n",
    "predictions_final = pd.DataFrame({'cuisine' : predictions , 'id' : testdf.id }, columns=['id', 'cuisine'])\n",
    "predictions_final.to_csv('Final_submission000.csv', index = False)"
   ]
  }
 ],
 "metadata": {
  "kernelspec": {
   "display_name": "Python 3",
   "language": "python",
   "name": "python3"
  },
  "language_info": {
   "codemirror_mode": {
    "name": "ipython",
    "version": 3
   },
   "file_extension": ".py",
   "mimetype": "text/x-python",
   "name": "python",
   "nbconvert_exporter": "python",
   "pygments_lexer": "ipython3",
   "version": "3.6.4"
  }
 },
 "nbformat": 4,
 "nbformat_minor": 1
}
